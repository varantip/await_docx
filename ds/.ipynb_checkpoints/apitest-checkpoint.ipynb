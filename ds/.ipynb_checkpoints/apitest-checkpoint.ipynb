{
 "cells": [
  {
   "cell_type": "code",
   "execution_count": 7,
   "id": "b35deb9a-e092-413e-86dc-9681d79f9b69",
   "metadata": {},
   "outputs": [
    {
     "name": "stdout",
     "output_type": "stream",
     "text": [
      "Collecting kindwise-api-client\n",
      "  Downloading kindwise_api_client-0.6.0-py3-none-any.whl (829 kB)\n",
      "Requirement already satisfied: pillow in c:\\users\\naya\\appdata\\local\\programs\\python\\python310\\lib\\site-packages (from kindwise-api-client) (11.1.0)\n",
      "Collecting python-dotenv\n",
      "  Downloading python_dotenv-1.0.1-py3-none-any.whl (19 kB)\n",
      "Requirement already satisfied: requests in c:\\users\\naya\\appdata\\local\\programs\\python\\python310\\lib\\site-packages (from kindwise-api-client) (2.32.3)\n",
      "Requirement already satisfied: charset-normalizer<4,>=2 in c:\\users\\naya\\appdata\\local\\programs\\python\\python310\\lib\\site-packages (from requests->kindwise-api-client) (3.4.1)\n",
      "Requirement already satisfied: urllib3<3,>=1.21.1 in c:\\users\\naya\\appdata\\local\\programs\\python\\python310\\lib\\site-packages (from requests->kindwise-api-client) (2.3.0)\n",
      "Requirement already satisfied: idna<4,>=2.5 in c:\\users\\naya\\appdata\\local\\programs\\python\\python310\\lib\\site-packages (from requests->kindwise-api-client) (3.10)\n",
      "Requirement already satisfied: certifi>=2017.4.17 in c:\\users\\naya\\appdata\\local\\programs\\python\\python310\\lib\\site-packages (from requests->kindwise-api-client) (2025.1.31)\n",
      "Installing collected packages: python-dotenv, kindwise-api-client\n",
      "Successfully installed kindwise-api-client-0.6.0 python-dotenv-1.0.1\n"
     ]
    }
   ],
   "source": [
    "!pip install kindwise-api-client\n",
    "apikey = 'TBx0AqWdnUcl29j38kXJuj2DBKgkt7aCZNRs4Yk0ct9W8kvUYK'\n",
    "from kindwise import PlantApi"
   ]
  },
  {
   "cell_type": "code",
   "execution_count": null,
   "id": "b75a37cb-095a-4bdc-b701-353b7461144b",
   "metadata": {},
   "outputs": [],
   "source": [
    "def IndetifyPlant(path):\n",
    "    api = PlantApi(f'{apikey}')\n",
    "    identification = api.identify(path, details=['url', 'common_names'])\n",
    "    \n",
    "    print('is plant' if identification.result.is_plant.binary else 'is not plant')\n",
    "    for suggestion in identification.result.classification.suggestions:\n",
    "        print(suggestion.name)\n",
    "        print(f'probability {suggestion.probability:.2%}')\n",
    "        print(suggestion.details['url'], suggestion.details['common_names'])\n",
    "        print()\n"
   ]
  },
  {
   "cell_type": "markdown",
   "id": "95db8234-efd8-4369-84ca-6fd3223d8707",
   "metadata": {},
   "source": [
    "<p>\n",
    "    <img src=\"./pics/18.jpg\" width = 200>\n",
    "</p>"
   ]
  },
  {
   "cell_type": "code",
   "execution_count": 10,
   "id": "503c9cde-fd2d-46ac-81c7-e24886714a3a",
   "metadata": {},
   "outputs": [
    {
     "name": "stdout",
     "output_type": "stream",
     "text": [
      "is plant\n",
      "Streptocarpus ionanthus\n",
      "probability 99.00%\n",
      "https://en.wikipedia.org/wiki/Streptocarpus_ionanthus ['African Violet']\n",
      "\n"
     ]
    }
   ],
   "source": [
    "IdentifyPlant('./pics/18.jpg')\n"
   ]
  },
  {
   "cell_type": "code",
   "execution_count": null,
   "id": "2c8691cd-1718-47e2-b2e9-af792c1e59a0",
   "metadata": {},
   "outputs": [],
   "source": []
  }
 ],
 "metadata": {
  "kernelspec": {
   "display_name": "Python 3 (ipykernel)",
   "language": "python",
   "name": "python3"
  },
  "language_info": {
   "codemirror_mode": {
    "name": "ipython",
    "version": 3
   },
   "file_extension": ".py",
   "mimetype": "text/x-python",
   "name": "python",
   "nbconvert_exporter": "python",
   "pygments_lexer": "ipython3",
   "version": "3.10.0"
  }
 },
 "nbformat": 4,
 "nbformat_minor": 5
}
