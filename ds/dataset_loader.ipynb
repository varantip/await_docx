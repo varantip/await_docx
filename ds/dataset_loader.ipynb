{
 "cells": [
  {
   "cell_type": "code",
   "execution_count": 1,
   "id": "d5d44fa7-438e-4b2f-9911-d94922eb6ab1",
   "metadata": {},
   "outputs": [],
   "source": [
    "%%capture\n",
    "!pip install torch \n",
    "!pip install torchvision"
   ]
  },
  {
   "cell_type": "code",
   "execution_count": 3,
   "id": "5af7a531-560d-4390-8f21-b9c183b44901",
   "metadata": {},
   "outputs": [
    {
     "name": "stderr",
     "output_type": "stream",
     "text": [
      "C:\\Users\\Naya\\anaconda3\\envs\\colab\\lib\\site-packages\\tqdm\\auto.py:21: TqdmWarning: IProgress not found. Please update jupyter and ipywidgets. See https://ipywidgets.readthedocs.io/en/stable/user_install.html\n",
      "  from .autonotebook import tqdm as notebook_tqdm\n"
     ]
    }
   ],
   "source": [
    "import io\n",
    "import torchvision\n",
    "import pathlib\n",
    "import torch\n",
    "import os\n",
    "from torch.utils.data import Dataset\n",
    "from datasets import load_dataset\n",
    "from PIL import Image\n",
    "from pathlib import Path\n",
    "from typing import Tuple, List, Dict"
   ]
  },
  {
   "cell_type": "code",
   "execution_count": 5,
   "id": "f2f5b29b-6c6c-4dea-997a-cdf43c19d70f",
   "metadata": {},
   "outputs": [
    {
     "name": "stderr",
     "output_type": "stream",
     "text": [
      "Generating train split: 4000 examples [00:00, 292903.44 examples/s]\n"
     ]
    }
   ],
   "source": [
    "dataset = load_dataset(\"C:\\\\Users\\\\Naya\\\\.cache\\\\huggingface\\\\datasets\\\\pantelism___cats-vs-dogs\")"
   ]
  },
  {
   "cell_type": "code",
   "execution_count": 7,
   "id": "1dc746bd-6c36-498b-a083-72845ec4c51e",
   "metadata": {},
   "outputs": [],
   "source": [
    "dataset = dataset['train'].train_test_split(test_size=0.3, seed=42)"
   ]
  },
  {
   "cell_type": "code",
   "execution_count": 9,
   "id": "a17674f8-8ce2-40c2-9b10-19d84656b47f",
   "metadata": {},
   "outputs": [],
   "source": [
    "path = \"C:\\\\datasets\\\\catsdogs\"\n",
    "for i, example in enumerate(dataset['train']):\n",
    "    if 'image' in example:\n",
    "        image = example['image']\n",
    "        if example['label'] == 0: \n",
    "            image.save(f'{path}\\\\train\\\\cats\\\\image_{i}.jpg')\n",
    "        else:\n",
    "            image.save(f'{path}\\\\train\\\\dogs\\\\image_{i}.jpg')\n",
    "\n",
    "for i, example in enumerate(dataset['test']):\n",
    "    if 'image' in example:\n",
    "        image = example['image']\n",
    "        if example['label'] == 0: \n",
    "            image.save(f'{path}\\\\test\\\\cats\\\\image_{i}.jpg')\n",
    "        else:\n",
    "            image.save(f'{path}\\\\test\\\\dogs\\\\image_{i}.jpg')"
   ]
  },
  {
   "cell_type": "code",
   "execution_count": 11,
   "id": "1ad18685-9fbb-45a8-ad15-b043dea5f6ef",
   "metadata": {},
   "outputs": [],
   "source": [
    "def find_classes(directory: str) -> Tuple[List[str], Dict[str, int]]:\n",
    "    classes = sorted(entry.name for entry in os.scandir(directory) if entry.is_dir())\n",
    "    \n",
    "    if not classes:\n",
    "        raise FileNotFoundError(f\"Couldn't find any classes in {directory}.\")\n",
    "        \n",
    "    class_to_idx = {cls_name: i for i, cls_name in enumerate(classes)}\n",
    "    return classes, class_to_idx"
   ]
  },
  {
   "cell_type": "code",
   "execution_count": 13,
   "id": "ea368c71-9ab3-41c1-bf66-51c23e7bdd1d",
   "metadata": {},
   "outputs": [],
   "source": [
    "class ImageFolderCustom(Dataset):\n",
    "    def __init__(self, targ_dir: str, transform=None) -> None:\n",
    "        self.paths = list(pathlib.Path(targ_dir).glob(\"*/*.jpg\"))\n",
    "        self.transform = transform\n",
    "        self.classes, self.class_to_idx = find_classes(targ_dir)\n",
    "\n",
    "    def load_image(self, index: int) -> Image.Image:\n",
    "        image_path = self.paths[index]\n",
    "        return Image.open(image_path) \n",
    "    \n",
    "    def __len__(self) -> int:\n",
    "        return len(self.paths)\n",
    "    \n",
    "    def __getitem__(self, index: int) -> Tuple[torch.Tensor, int]:\n",
    "        img = self.load_image(index)\n",
    "        class_name  = self.paths[index].parent.name\n",
    "        class_idx = self.class_to_idx[class_name]\n",
    "\n",
    "        if self.transform:\n",
    "            return self.transform(img), class_idx\n",
    "        else:\n",
    "            return img, class_idx"
   ]
  },
  {
   "cell_type": "code",
   "execution_count": 15,
   "id": "69c01a38-8483-4aae-91c5-81100c71ee3e",
   "metadata": {},
   "outputs": [],
   "source": [
    "train_transforms = torchvision.transforms.Compose([\n",
    "    torchvision.transforms.Resize((64, 64)),\n",
    "    torchvision.transforms.RandomHorizontalFlip(p=0.5),\n",
    "    torchvision.transforms.ToTensor()\n",
    "])\n",
    "\n",
    "test_transforms = torchvision.transforms.Compose([\n",
    "    torchvision.transforms.Resize((64, 64)),\n",
    "    torchvision.transforms.ToTensor()\n",
    "])"
   ]
  },
  {
   "cell_type": "code",
   "execution_count": 17,
   "id": "b0212afa-6472-4b78-8f1f-274e7bdd7c11",
   "metadata": {},
   "outputs": [],
   "source": [
    "train_data_custom = ImageFolderCustom(targ_dir = f\"{path}\\\\train\\\\\",\n",
    "                                     transform=train_transforms)\n",
    "\n",
    "test_data_custom = ImageFolderCustom(targ_dir = f\"{path}\\\\test\\\\\",\n",
    "                                     transform=test_transforms)\n"
   ]
  },
  {
   "cell_type": "code",
   "execution_count": 19,
   "id": "82b3e872-f984-4e2c-a3ee-dbcf21c2521e",
   "metadata": {},
   "outputs": [
    {
     "data": {
      "text/plain": [
       "(<__main__.ImageFolderCustom at 0x1f12937a7a0>,\n",
       " <__main__.ImageFolderCustom at 0x1f112cdf970>)"
      ]
     },
     "execution_count": 19,
     "metadata": {},
     "output_type": "execute_result"
    }
   ],
   "source": [
    "train_data_custom, test_data_custom"
   ]
  },
  {
   "cell_type": "code",
   "execution_count": null,
   "id": "a6b15099-01c2-48c1-af45-010d081d475f",
   "metadata": {},
   "outputs": [],
   "source": []
  }
 ],
 "metadata": {
  "kernelspec": {
   "display_name": "Python [conda env:colab]",
   "language": "python",
   "name": "conda-env-colab-py"
  },
  "language_info": {
   "codemirror_mode": {
    "name": "ipython",
    "version": 3
   },
   "file_extension": ".py",
   "mimetype": "text/x-python",
   "name": "python",
   "nbconvert_exporter": "python",
   "pygments_lexer": "ipython3",
   "version": "3.10.16"
  }
 },
 "nbformat": 4,
 "nbformat_minor": 5
}
