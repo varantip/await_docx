{
 "cells": [
  {
   "cell_type": "code",
   "execution_count": 1,
   "id": "47fc8a94-71cb-4802-971d-2937bb505eea",
   "metadata": {},
   "outputs": [
    {
     "name": "stdout",
     "output_type": "stream",
     "text": [
      "Collecting bing-image-downloader\n",
      "  Downloading bing_image_downloader-1.1.2-py3-none-any.whl.metadata (2.8 kB)\n",
      "Downloading bing_image_downloader-1.1.2-py3-none-any.whl (5.9 kB)\n",
      "Installing collected packages: bing-image-downloader\n",
      "Successfully installed bing-image-downloader-1.1.2\n"
     ]
    }
   ],
   "source": [
    "!pip3 install bing-image-downloader"
   ]
  },
  {
   "cell_type": "code",
   "execution_count": 3,
   "id": "bb4a9b6e-5edd-4721-8a38-b837258a481d",
   "metadata": {
    "collapsed": true,
    "jupyter": {
     "outputs_hidden": true
    },
    "scrolled": true
   },
   "outputs": [
    {
     "name": "stdout",
     "output_type": "stream",
     "text": [
      "[%] Downloading Images to D:\\studying\\IKBFU\\ds\\datasets\\нарциссы\n",
      "\n",
      "\n",
      "[!!]Indexing page: 1\n",
      "\n",
      "[%] Indexed 10 Images on Page 1.\n",
      "\n",
      "===============================================\n",
      "\n",
      "[%] Downloading Image #1 from https://ferma-biz.ru/wp-content/uploads/2016/02/narcissus-flowers-2.jpg\n",
      "[%] File Downloaded !\n",
      "\n",
      "[%] Downloading Image #2 from https://rastenievod.com/wp-content/uploads/2016/07/1-60-700x669.jpg\n",
      "[%] File Downloaded !\n",
      "\n",
      "[%] Downloading Image #3 from https://rastenievod.com/wp-content/uploads/2016/07/2-65.jpg\n",
      "[%] File Downloaded !\n",
      "\n",
      "[%] Downloading Image #4 from https://lafoy.ru/photo_b/foto-1975-0.jpg\n",
      "[%] File Downloaded !\n",
      "\n",
      "[%] Downloading Image #5 from https://rastenievod.com/wp-content/uploads/2016/07/11-23.jpg\n",
      "[%] File Downloaded !\n",
      "\n",
      "[%] Downloading Image #6 from https://rastenievod.com/wp-content/uploads/2016/07/4-49.jpg\n",
      "[%] File Downloaded !\n",
      "\n",
      "[%] Downloading Image #7 from https://lafoy.ru/photo_l/foto-1975-40.jpg\n",
      "[%] File Downloaded !\n",
      "\n",
      "[%] Downloading Image #8 from https://ferma-biz.ru/wp-content/uploads/2016/02/11-1024x768.jpg\n",
      "[%] File Downloaded !\n",
      "\n",
      "[%] Downloading Image #9 from http://img.desktopwallpapers.ru/flowers/pics/wide/1920x1200/302bc7af541b10c61a5e16a29bea2869.jpg\n",
      "[%] File Downloaded !\n",
      "\n",
      "[%] Downloading Image #10 from https://ferma-biz.ru/wp-content/uploads/2016/02/360.jpg\n",
      "[%] File Downloaded !\n",
      "\n",
      "\n",
      "\n",
      "[%] Done. Downloaded 10 images.\n"
     ]
    }
   ],
   "source": [
    "from bing_image_downloader import downloader\n",
    "query_string = \"нарциссы\"\n",
    "downloader.download(query_string, limit=10,  output_dir='D:\\\\studying\\\\IKBFU\\\\ds\\\\datasets', \n",
    "adult_filter_off=True, force_replace=False, timeout=60)\n",
    "\n"
   ]
  },
  {
   "cell_type": "code",
   "execution_count": 5,
   "id": "adbaa041-c585-46b9-8070-9c2bdc8ee40c",
   "metadata": {},
   "outputs": [
    {
     "name": "stdout",
     "output_type": "stream",
     "text": [
      "Метки модели: {0: 'bolero deep blue', 1: 'toad lily', 2: 'bougainvillea', 3: 'blanket flower', 4: 'prince of wales feathers', 5: 'english marigold', 6: 'common dandelion', 7: 'mallow', 8: 'barbeton daisy', 9: 'desert-rose', 10: 'anthurium', 11: 'cyclamen', 12: 'marigold', 13: 'spring crocus', 14: 'petunia', 15: 'foxglove', 16: 'primula', 17: 'cape flower', 18: \"colt's foot\", 19: 'osteospermum', 20: 'buttercup', 21: 'balloon flower', 22: 'fire lily', 23: 'bromelia', 24: 'artichoke', 25: 'daffodil', 26: 'pink-yellow dahlia', 27: 'geranium', 28: 'peruvian lily', 29: 'king protea', 30: 'silverbush', 31: 'alpine sea holly', 32: 'hibiscus', 33: 'giant white arum lily', 34: 'canna lily', 35: 'sunflower', 36: 'sweet pea', 37: 'mexican aster', 38: 'californian poppy', 39: 'pincushion flower', 40: 'black-eyed susan', 41: 'blackberry lily', 42: 'gaura', 43: 'love in the mist', 44: 'spear thistle', 45: 'orange dahlia', 46: 'wallflower', 47: 'tiger lily', 48: 'stemless gentian', 49: 'morning glory', 50: 'frangipani', 51: 'lotus lotus', 52: 'red ginger', 53: 'oxeye daisy', 54: 'windflower', 55: 'monkshood', 56: 'bishop of llandaff', 57: 'globe-flower', 58: 'globe thistle', 59: 'poinsettia', 60: 'wild pansy', 61: 'water lily', 62: 'watercress', 63: 'mexican petunia', 64: 'corn poppy', 65: 'bearded iris', 66: 'azalea', 67: 'camellia', 68: 'tree poppy', 69: 'moon orchid', 70: 'magnolia', 71: 'bee balm', 72: 'lenten rose', 73: 'trumpet creeper', 74: 'passion flower', 75: 'yellow iris', 76: 'pelargonium', 77: 'tree mallow', 78: 'thorn apple', 79: 'garden phlox', 80: 'sword lily', 81: 'carnation', 82: 'ruby-lipped cattleya', 83: 'ball moss', 84: 'columbine', 85: 'siam tulip', 86: 'snapdragon', 87: 'cautleya spicata', 88: 'hard-leaved pocket orchid', 89: 'pink primrose', 90: 'gazania', 91: 'hippeastrum', 92: 'fritillary', 93: 'canterbury bells', 94: 'great masterwort', 95: 'sweet william', 96: 'clematis', 97: 'purple coneflower', 98: 'japanese anemone', 99: 'bird of paradise', 100: 'rose', 101: 'grape hyacinth'}\n"
     ]
    }
   ],
   "source": [
    "from transformers import AutoModelForImageClassification\n",
    "\n",
    "# Загружаем модель для классификации изображений\n",
    "model_name = \"dima806/oxford_flowers_image_detection\"  # Пример модели\n",
    "model = AutoModelForImageClassification.from_pretrained(model_name)\n",
    "\n",
    "# Получаем метки из конфигурации модели\n",
    "labels = model.config.id2label\n",
    "print(\"Метки модели:\", labels)"
   ]
  },
  {
   "cell_type": "code",
   "execution_count": 19,
   "id": "20c866f6-caf2-4427-a48a-913cb7e6c3a1",
   "metadata": {},
   "outputs": [],
   "source": [
    "%%capture\n",
    "query_string = [\"marigold\", \"sunflower\", \"fire lily\", \"azalea\", \"camellia\", \"water\"\" lily\", \"purple coneflower\", \"rose\", \"mexican aster\", \"hibiscus\"]\n",
    "\n",
    "for flower in query_string:\n",
    "    downloader.download(flower+\" one flower\", limit=10,  output_dir=f'D:\\\\studying\\\\IKBFU\\\\ds\\\\datasets\\\\plants\\\\', \n",
    "    adult_filter_off=False, force_replace=False, timeout=10)\n"
   ]
  },
  {
   "cell_type": "code",
   "execution_count": 21,
   "id": "3b953cd2-1cee-4bdd-b50b-cea96d6821bf",
   "metadata": {},
   "outputs": [
    {
     "name": "stdout",
     "output_type": "stream",
     "text": [
      "Переименовано: azalea one flower -> azalea\n",
      "Переименовано: camellia one flower -> camellia\n",
      "Переименовано: fire lily one flower -> fire lily\n",
      "Переименовано: hibiscus one flower -> hibiscus\n",
      "Переименовано: marigold one flower -> marigold\n",
      "Переименовано: mexican aster one flower -> mexican aster\n",
      "Переименовано: purple coneflower one flower -> purple coneflower\n",
      "Переименовано: rose one flower -> rose\n",
      "Переименовано: sunflower one flower -> sunflower\n",
      "Переименовано: water lily one flower -> water lily\n",
      "Все подпапки переименованы!\n"
     ]
    }
   ],
   "source": [
    "import os\n",
    "\n",
    "# Путь к основной папке\n",
    "folder_path = \"D:\\\\studying\\\\IKBFU\\\\ds\\\\datasets\\\\plants\\\\\"\n",
    "\n",
    "# Получаем список всех подпапок\n",
    "subfolders = [f for f in os.listdir(folder_path) if os.path.isdir(os.path.join(folder_path, f))]\n",
    "\n",
    "# Переименовываем каждую подпапку\n",
    "for subfolder in subfolders:\n",
    "    # Полный путь к текущей подпапке\n",
    "    old_path = os.path.join(folder_path, subfolder)\n",
    "    \n",
    "    # Новое имя подпапки в верхнем регистре\n",
    "    new_name = subfolder[:len(subfolder)-11]\n",
    "    new_path = os.path.join(folder_path, new_name)\n",
    "    \n",
    "    # Переименовываем\n",
    "    os.rename(old_path, new_path)\n",
    "    print(f\"Переименовано: {subfolder} -> {new_name}\")\n",
    "\n",
    "print(\"Все подпапки переименованы!\")"
   ]
  },
  {
   "cell_type": "code",
   "execution_count": null,
   "id": "f6a0419a-7b27-4113-b9db-85ca4fd14cc1",
   "metadata": {},
   "outputs": [],
   "source": []
  }
 ],
 "metadata": {
  "kernelspec": {
   "display_name": "Python [conda env:base] *",
   "language": "python",
   "name": "conda-base-py"
  },
  "language_info": {
   "codemirror_mode": {
    "name": "ipython",
    "version": 3
   },
   "file_extension": ".py",
   "mimetype": "text/x-python",
   "name": "python",
   "nbconvert_exporter": "python",
   "pygments_lexer": "ipython3",
   "version": "3.12.7"
  }
 },
 "nbformat": 4,
 "nbformat_minor": 5
}
