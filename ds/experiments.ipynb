{
 "cells": [
  {
   "cell_type": "code",
   "execution_count": 7,
   "id": "8ac73dd3-17c3-4a34-930b-0d0d2221df75",
   "metadata": {},
   "outputs": [
    {
     "name": "stdout",
     "output_type": "stream",
     "text": [
      "Requirement already satisfied: numpy>=1.23.0 in c:\\users\\naya\\anaconda3\\lib\\site-packages (from -r requirements.txt (line 1)) (1.26.4)\n",
      "Requirement already satisfied: scipy>=1.9.0 in c:\\users\\naya\\anaconda3\\lib\\site-packages (from -r requirements.txt (line 2)) (1.13.1)\n",
      "Requirement already satisfied: pandas>=1.4.0 in c:\\users\\naya\\anaconda3\\lib\\site-packages (from -r requirements.txt (line 3)) (2.2.2)\n",
      "Requirement already satisfied: matplotlib>=3.5.0 in c:\\users\\naya\\anaconda3\\lib\\site-packages (from -r requirements.txt (line 4)) (3.9.2)\n",
      "Requirement already satisfied: seaborn>=0.11.2 in c:\\users\\naya\\anaconda3\\lib\\site-packages (from -r requirements.txt (line 5)) (0.13.2)\n",
      "Requirement already satisfied: scikit-learn>=1.0.0 in c:\\users\\naya\\anaconda3\\lib\\site-packages (from -r requirements.txt (line 6)) (1.5.1)\n",
      "Collecting torch>=1.12.0 (from -r requirements.txt (line 7))\n",
      "  Downloading torch-2.6.0-cp312-cp312-win_amd64.whl.metadata (28 kB)\n",
      "Requirement already satisfied: pillow>=9.0.0 in c:\\users\\naya\\anaconda3\\lib\\site-packages (from -r requirements.txt (line 8)) (10.4.0)\n",
      "Requirement already satisfied: pyyaml>=6.0 in c:\\users\\naya\\anaconda3\\lib\\site-packages (from -r requirements.txt (line 9)) (6.0.1)\n",
      "Requirement already satisfied: nltk>=3.7 in c:\\users\\naya\\anaconda3\\lib\\site-packages (from -r requirements.txt (line 11)) (3.9.1)\n",
      "Collecting spacy>=3.4.0 (from -r requirements.txt (line 12))\n",
      "  Downloading spacy-3.8.4-cp312-cp312-win_amd64.whl.metadata (27 kB)\n",
      "Requirement already satisfied: jupyterlab>=3.4.0 in c:\\users\\naya\\anaconda3\\lib\\site-packages (from -r requirements.txt (line 13)) (4.2.5)\n",
      "Collecting xgboost>=1.6.0 (from -r requirements.txt (line 14))\n",
      "  Downloading xgboost-2.1.4-py3-none-win_amd64.whl.metadata (2.1 kB)\n",
      "Collecting lightgbm>=3.3.0 (from -r requirements.txt (line 15))\n",
      "  Downloading lightgbm-4.6.0-py3-none-win_amd64.whl.metadata (17 kB)\n",
      "Requirement already satisfied: plotly>=5.9.0 in c:\\users\\naya\\anaconda3\\lib\\site-packages (from -r requirements.txt (line 16)) (5.24.1)\n",
      "Collecting dash>=2.6.0 (from -r requirements.txt (line 17))\n",
      "  Downloading dash-2.18.2-py3-none-any.whl.metadata (10 kB)\n",
      "Collecting kagglehub>=0.3.7 (from -r requirements.txt (line 18))\n",
      "  Downloading kagglehub-0.3.9-py3-none-any.whl.metadata (30 kB)\n",
      "Collecting tf-keras>=2.18.0 (from -r requirements.txt (line 19))\n",
      "  Downloading tf_keras-2.18.0-py3-none-any.whl.metadata (1.6 kB)\n",
      "Collecting datasets (from -r requirements.txt (line 20))\n",
      "  Downloading datasets-3.3.1-py3-none-any.whl.metadata (19 kB)\n",
      "Collecting evaluate (from -r requirements.txt (line 21))\n",
      "  Using cached evaluate-0.4.3-py3-none-any.whl.metadata (9.2 kB)\n",
      "Requirement already satisfied: threadpoolctl in c:\\users\\naya\\anaconda3\\lib\\site-packages (from -r requirements.txt (line 22)) (3.5.0)\n"
     ]
    },
    {
     "name": "stderr",
     "output_type": "stream",
     "text": [
      "ERROR: Ignored the following yanked versions: 1.12.1a1, 1.12.1a2, 1.12.1a3, 1.12.1a4\n",
      "ERROR: Could not find a version that satisfies the requirement sympy==1.31.1 (from versions: 0.5.14, 0.5.15, 0.6.0, 0.6.1, 0.6.2, 0.6.3, 0.6.4, 0.6.5, 0.6.6, 0.7.0, 0.7.1, 0.7.2, 0.7.4, 0.7.4.1, 0.7.5, 0.7.6, 0.7.6.1, 1.0, 1.1, 1.1.1, 1.2, 1.3, 1.4, 1.5b1, 1.5rc1, 1.5, 1.5.1, 1.6rc1, 1.6rc2, 1.6, 1.6.1, 1.6.2, 1.7rc1, 1.7, 1.7.1, 1.8, 1.9rc1, 1.9, 1.10rc1, 1.10rc2, 1.10rc3, 1.10, 1.10.1, 1.11rc1, 1.11, 1.11.1, 1.12rc1, 1.12, 1.12.1rc1, 1.12.1, 1.13.0rc1, 1.13.0rc2, 1.13.0rc3, 1.13.0rc4, 1.13.0, 1.13.1, 1.13.2, 1.13.3)\n",
      "ERROR: No matching distribution found for sympy==1.31.1\n"
     ]
    },
    {
     "ename": "ModuleNotFoundError",
     "evalue": "No module named 'kagglehub'",
     "output_type": "error",
     "traceback": [
      "\u001b[1;31m---------------------------------------------------------------------------\u001b[0m",
      "\u001b[1;31mModuleNotFoundError\u001b[0m                       Traceback (most recent call last)",
      "File \u001b[1;32m~\\AppData\\Local\\Temp\\ipykernel_20460\\1339245448.py:5\u001b[0m\n\u001b[0;32m      3\u001b[0m \u001b[38;5;28;01mimport\u001b[39;00m \u001b[38;5;21;01mmatplotlib\u001b[39;00m\u001b[38;5;21;01m.\u001b[39;00m\u001b[38;5;21;01mpyplot\u001b[39;00m \u001b[38;5;28;01mas\u001b[39;00m \u001b[38;5;21;01mplt\u001b[39;00m\n\u001b[0;32m      4\u001b[0m \u001b[38;5;28;01mimport\u001b[39;00m \u001b[38;5;21;01mtransformers\u001b[39;00m\n\u001b[1;32m----> 5\u001b[0m \u001b[38;5;28;01mimport\u001b[39;00m \u001b[38;5;21;01mkagglehub\u001b[39;00m\n",
      "\u001b[1;31mModuleNotFoundError\u001b[0m: No module named 'kagglehub'"
     ]
    },
    {
     "ename": "ModuleNotFoundError",
     "evalue": "No module named 'kagglehub'",
     "output_type": "error",
     "traceback": [
      "\u001b[1;31m---------------------------------------------------------------------------\u001b[0m",
      "\u001b[1;31mModuleNotFoundError\u001b[0m                       Traceback (most recent call last)",
      "Cell \u001b[1;32mIn[7], line 1\u001b[0m\n\u001b[1;32m----> 1\u001b[0m get_ipython()\u001b[38;5;241m.\u001b[39mrun_line_magic(\u001b[38;5;124m'\u001b[39m\u001b[38;5;124mrun\u001b[39m\u001b[38;5;124m'\u001b[39m, \u001b[38;5;124m'\u001b[39m\u001b[38;5;124mtemplate.ipynb\u001b[39m\u001b[38;5;124m'\u001b[39m)\n",
      "File \u001b[1;32m~\\anaconda3\\Lib\\site-packages\\IPython\\core\\interactiveshell.py:2480\u001b[0m, in \u001b[0;36mInteractiveShell.run_line_magic\u001b[1;34m(self, magic_name, line, _stack_depth)\u001b[0m\n\u001b[0;32m   2478\u001b[0m     kwargs[\u001b[38;5;124m'\u001b[39m\u001b[38;5;124mlocal_ns\u001b[39m\u001b[38;5;124m'\u001b[39m] \u001b[38;5;241m=\u001b[39m \u001b[38;5;28mself\u001b[39m\u001b[38;5;241m.\u001b[39mget_local_scope(stack_depth)\n\u001b[0;32m   2479\u001b[0m \u001b[38;5;28;01mwith\u001b[39;00m \u001b[38;5;28mself\u001b[39m\u001b[38;5;241m.\u001b[39mbuiltin_trap:\n\u001b[1;32m-> 2480\u001b[0m     result \u001b[38;5;241m=\u001b[39m fn(\u001b[38;5;241m*\u001b[39margs, \u001b[38;5;241m*\u001b[39m\u001b[38;5;241m*\u001b[39mkwargs)\n\u001b[0;32m   2482\u001b[0m \u001b[38;5;66;03m# The code below prevents the output from being displayed\u001b[39;00m\n\u001b[0;32m   2483\u001b[0m \u001b[38;5;66;03m# when using magics with decorator @output_can_be_silenced\u001b[39;00m\n\u001b[0;32m   2484\u001b[0m \u001b[38;5;66;03m# when the last Python token in the expression is a ';'.\u001b[39;00m\n\u001b[0;32m   2485\u001b[0m \u001b[38;5;28;01mif\u001b[39;00m \u001b[38;5;28mgetattr\u001b[39m(fn, magic\u001b[38;5;241m.\u001b[39mMAGIC_OUTPUT_CAN_BE_SILENCED, \u001b[38;5;28;01mFalse\u001b[39;00m):\n",
      "File \u001b[1;32m~\\anaconda3\\Lib\\site-packages\\IPython\\core\\magics\\execution.py:737\u001b[0m, in \u001b[0;36mExecutionMagics.run\u001b[1;34m(self, parameter_s, runner, file_finder)\u001b[0m\n\u001b[0;32m    735\u001b[0m     \u001b[38;5;28;01mwith\u001b[39;00m preserve_keys(\u001b[38;5;28mself\u001b[39m\u001b[38;5;241m.\u001b[39mshell\u001b[38;5;241m.\u001b[39muser_ns, \u001b[38;5;124m'\u001b[39m\u001b[38;5;124m__file__\u001b[39m\u001b[38;5;124m'\u001b[39m):\n\u001b[0;32m    736\u001b[0m         \u001b[38;5;28mself\u001b[39m\u001b[38;5;241m.\u001b[39mshell\u001b[38;5;241m.\u001b[39muser_ns[\u001b[38;5;124m'\u001b[39m\u001b[38;5;124m__file__\u001b[39m\u001b[38;5;124m'\u001b[39m] \u001b[38;5;241m=\u001b[39m filename\n\u001b[1;32m--> 737\u001b[0m         \u001b[38;5;28mself\u001b[39m\u001b[38;5;241m.\u001b[39mshell\u001b[38;5;241m.\u001b[39msafe_execfile_ipy(filename, raise_exceptions\u001b[38;5;241m=\u001b[39m\u001b[38;5;28;01mTrue\u001b[39;00m)\n\u001b[0;32m    738\u001b[0m     \u001b[38;5;28;01mreturn\u001b[39;00m\n\u001b[0;32m    740\u001b[0m \u001b[38;5;66;03m# Control the response to exit() calls made by the script being run\u001b[39;00m\n",
      "File \u001b[1;32m~\\anaconda3\\Lib\\site-packages\\IPython\\core\\interactiveshell.py:3005\u001b[0m, in \u001b[0;36mInteractiveShell.safe_execfile_ipy\u001b[1;34m(self, fname, shell_futures, raise_exceptions)\u001b[0m\n\u001b[0;32m   3003\u001b[0m result \u001b[38;5;241m=\u001b[39m \u001b[38;5;28mself\u001b[39m\u001b[38;5;241m.\u001b[39mrun_cell(cell, silent\u001b[38;5;241m=\u001b[39m\u001b[38;5;28;01mTrue\u001b[39;00m, shell_futures\u001b[38;5;241m=\u001b[39mshell_futures)\n\u001b[0;32m   3004\u001b[0m \u001b[38;5;28;01mif\u001b[39;00m raise_exceptions:\n\u001b[1;32m-> 3005\u001b[0m     result\u001b[38;5;241m.\u001b[39mraise_error()\n\u001b[0;32m   3006\u001b[0m \u001b[38;5;28;01melif\u001b[39;00m \u001b[38;5;129;01mnot\u001b[39;00m result\u001b[38;5;241m.\u001b[39msuccess:\n\u001b[0;32m   3007\u001b[0m     \u001b[38;5;28;01mbreak\u001b[39;00m\n",
      "File \u001b[1;32m~\\anaconda3\\Lib\\site-packages\\IPython\\core\\interactiveshell.py:308\u001b[0m, in \u001b[0;36mExecutionResult.raise_error\u001b[1;34m(self)\u001b[0m\n\u001b[0;32m    306\u001b[0m     \u001b[38;5;28;01mraise\u001b[39;00m \u001b[38;5;28mself\u001b[39m\u001b[38;5;241m.\u001b[39merror_before_exec\n\u001b[0;32m    307\u001b[0m \u001b[38;5;28;01mif\u001b[39;00m \u001b[38;5;28mself\u001b[39m\u001b[38;5;241m.\u001b[39merror_in_exec \u001b[38;5;129;01mis\u001b[39;00m \u001b[38;5;129;01mnot\u001b[39;00m \u001b[38;5;28;01mNone\u001b[39;00m:\n\u001b[1;32m--> 308\u001b[0m     \u001b[38;5;28;01mraise\u001b[39;00m \u001b[38;5;28mself\u001b[39m\u001b[38;5;241m.\u001b[39merror_in_exec\n",
      "    \u001b[1;31m[... skipping hidden 1 frame]\u001b[0m\n",
      "File \u001b[1;32m~\\AppData\\Local\\Temp\\ipykernel_20460\\1339245448.py:5\u001b[0m\n\u001b[0;32m      3\u001b[0m \u001b[38;5;28;01mimport\u001b[39;00m \u001b[38;5;21;01mmatplotlib\u001b[39;00m\u001b[38;5;21;01m.\u001b[39;00m\u001b[38;5;21;01mpyplot\u001b[39;00m \u001b[38;5;28;01mas\u001b[39;00m \u001b[38;5;21;01mplt\u001b[39;00m\n\u001b[0;32m      4\u001b[0m \u001b[38;5;28;01mimport\u001b[39;00m \u001b[38;5;21;01mtransformers\u001b[39;00m\n\u001b[1;32m----> 5\u001b[0m \u001b[38;5;28;01mimport\u001b[39;00m \u001b[38;5;21;01mkagglehub\u001b[39;00m\n",
      "\u001b[1;31mModuleNotFoundError\u001b[0m: No module named 'kagglehub'"
     ]
    }
   ],
   "source": [
    "%run template.ipynb"
   ]
  },
  {
   "cell_type": "markdown",
   "id": "34160812-ec6c-4a45-a073-251294283676",
   "metadata": {},
   "source": [
    "## ALL PICS\n",
    "<p>\n",
    "    <img src=\"./pics/0.jpg\" width=\"150\">\n",
    "    <img src=\"./pics/1.jpg\" width=\"150\">\n",
    "    <img src=\"./pics/2.jpg\" width=\"150\">\n",
    "    <img src=\"./pics/3.jpg\" width=\"150\">\n",
    "    <img src=\"./pics/4.jpg\" width=\"150\">\n",
    "    <img src=\"./pics/5.jpg\" width=\"150\">\n",
    "    <img src=\"./pics/6.jpg\" width=\"150\">\n",
    "    <img src=\"./pics/7.jpg\" width=\"150\">\n",
    "    <img src=\"./pics/8.jpg\" width=\"150\">\n",
    "    <img src=\"./pics/9.jpg\" width=\"150\">\n",
    "    <img src=\"./pics/10.jpg\" width=\"150\">\n",
    "    <img src=\"./pics/11.jpg\" width=\"150\">\n",
    "    <img src=\"./pics/12.jpg\" width=\"150\">\n",
    "    <img src=\"./pics/13.jpg\" width=\"150\">\n",
    "    <img src=\"./pics/14.jpg\" width=\"150\">\n",
    "    <img src=\"./pics/15.jpg\" width=\"150\">\n",
    "    <img src=\"./pics/16.jpg\" width=\"150\">\n",
    "    <img src=\"./pics/17.jpg\" width=\"150\">\n",
    "</p>"
   ]
  },
  {
   "cell_type": "markdown",
   "id": "b86fd810-707f-4f03-b3b1-0b196e036ba9",
   "metadata": {},
   "source": [
    "### 0 - rose, 1 - tomato healthy, 2 - tomato leaf healthy, 3 - bell pepper, 4 - tomato with spots, 5 - tomato with mold"
   ]
  },
  {
   "cell_type": "code",
   "execution_count": 17,
   "id": "ae5317cf-b320-451c-984c-5cf122ccd5c8",
   "metadata": {},
   "outputs": [],
   "source": [
    "pics = [\"./pics/0.jpg\", \"./pics/1.jpg\", \"./pics/2.jpg\", \"./pics/3.jpg\", \"./pics/4.jpg\", \"./pics/5.jpg\"]"
   ]
  },
  {
   "attachments": {},
   "cell_type": "markdown",
   "id": "f826816b-0acd-4a07-90fa-a8905f639f57",
   "metadata": {},
   "source": [
    "<p>\n",
    "    <img src=\"./pics/0.jpg\" width=\"180\">\n",
    "    <img src=\"./pics/1.jpg\" width=\"180\">\n",
    "    <img src=\"./pics/2.jpg\" width=\"180\">\n",
    "    <img src=\"./pics/3.jpg\" width=\"180\">\n",
    "    <img src=\"./pics/4.jpg\" width=\"180\">\n",
    "    <img src=\"./pics/5.jpg\" width=\"180\">  \n",
    "</p>"
   ]
  },
  {
   "cell_type": "markdown",
   "id": "45c7bfbd-c620-4ed5-a096-56f75693d519",
   "metadata": {},
   "source": [
    "## На поиск болезней (1) - хорошо "
   ]
  },
  {
   "cell_type": "code",
   "execution_count": null,
   "id": "615e97da-9a43-4e59-ac27-f6bab8568b19",
   "metadata": {},
   "outputs": [],
   "source": [
    "pipe2 = pipeline(\"image-classification\", model=\"swueste/plant-health-image-classifier\")"
   ]
  },
  {
   "cell_type": "code",
   "execution_count": 50,
   "id": "79bb7acb-f44a-4675-9051-ff222fd0444a",
   "metadata": {},
   "outputs": [
    {
     "name": "stdout",
     "output_type": "stream",
     "text": [
      "healthy\n",
      "healthy\n",
      "healthy\n",
      "healthy\n",
      "spots\n",
      "mildew\n",
      "healthy\n",
      "mildew\n",
      "spots\n",
      "healthy\n",
      "healthy\n",
      "healthy\n",
      "healthy\n",
      "healthy\n",
      "healthy\n",
      "healthy\n",
      "healthy\n",
      "healthy\n"
     ]
    }
   ],
   "source": [
    "res = pipe2(inputs = [pic for pic in pics])\n",
    "for p in res:\n",
    "    print(p[0][\"label\"])"
   ]
  },
  {
   "cell_type": "markdown",
   "id": "ffc579d0-e640-42ad-a2a6-5b5eb9b76d0c",
   "metadata": {},
   "source": [
    "##  Без лейблов - не подходит"
   ]
  },
  {
   "cell_type": "code",
   "execution_count": 28,
   "id": "a217c234-2983-40b9-b007-1de8b842e805",
   "metadata": {},
   "outputs": [
    {
     "name": "stderr",
     "output_type": "stream",
     "text": [
      "Device set to use cpu\n"
     ]
    }
   ],
   "source": [
    "# Use a pipeline as a high-level helper\n",
    "from transformers import pipeline\n",
    "pipe = pipeline(\"image-classification\", model=\"ahmed792002/vit-plant-classification\") ;"
   ]
  },
  {
   "cell_type": "code",
   "execution_count": 29,
   "id": "bfb84d76-78ab-4a0b-8b6e-a3fddf01dbe7",
   "metadata": {},
   "outputs": [
    {
     "name": "stdout",
     "output_type": "stream",
     "text": [
      "[[{'label': 'LABEL_30', 'score': 0.8431189060211182}, {'label': 'LABEL_35', 'score': 0.8036286234855652}, {'label': 'LABEL_6', 'score': 0.7749577164649963}, {'label': 'LABEL_29', 'score': 0.7668712735176086}, {'label': 'LABEL_12', 'score': 0.7512249946594238}]]\n"
     ]
    }
   ],
   "source": [
    "print(pipe(inputs = [\"./pics/1.jpg\"]))"
   ]
  },
  {
   "cell_type": "markdown",
   "id": "433e4a90-d67f-4225-92a1-692a4c5e2ea8",
   "metadata": {},
   "source": [
    "## На поиск болезней (2) - не подходит"
   ]
  },
  {
   "cell_type": "code",
   "execution_count": 27,
   "id": "de05e95c-6065-4857-9816-c03bb146c005",
   "metadata": {},
   "outputs": [
    {
     "name": "stderr",
     "output_type": "stream",
     "text": [
      "Device set to use cpu\n"
     ]
    }
   ],
   "source": [
    "pipe3 = pipeline(\"image-classification\", model=\"haiderAI/vision_modelvision_Transformer_plant_disease_detetcion\") ;"
   ]
  },
  {
   "cell_type": "code",
   "execution_count": 26,
   "id": "005a827b-dd77-4f21-9001-38f86a1cd0f3",
   "metadata": {},
   "outputs": [
    {
     "name": "stdout",
     "output_type": "stream",
     "text": [
      "[{'label': 'Late_Blight', 'score': 0.7593992352485657}, {'label': 'Leaf_Mold', 'score': 0.715968132019043}]\n",
      "[{'label': 'Septoria_Leaf_Spot', 'score': 0.8025122880935669}, {'label': 'Late_Blight', 'score': 0.6936768889427185}]\n",
      "[{'label': 'Late_Blight', 'score': 0.9491686224937439}, {'label': 'Septoria_Leaf_Spot', 'score': 0.7142689824104309}]\n",
      "[{'label': 'Septoria_Leaf_Spot', 'score': 0.6890126466751099}, {'label': 'Early_Blight', 'score': 0.6557503342628479}]\n",
      "[{'label': 'Early_Blight', 'score': 0.9682273864746094}, {'label': 'Septoria_Leaf_Spot', 'score': 0.93775475025177}]\n",
      "[{'label': 'Late_Blight', 'score': 0.9982507824897766}, {'label': 'Early_Blight', 'score': 0.882548451423645}]\n"
     ]
    }
   ],
   "source": [
    "res = pipe3(inputs = [pic for pic in pics])\n",
    "for p in res:\n",
    "    print(p[:2])"
   ]
  },
  {
   "cell_type": "markdown",
   "id": "7be961d1-662c-4feb-8267-d697a2f0d762",
   "metadata": {},
   "source": [
    "## Классификация растений (1) - более менее"
   ]
  },
  {
   "cell_type": "code",
   "execution_count": 33,
   "id": "df43d6f7-7a7f-4ac7-a7a6-6e27105ccd4b",
   "metadata": {},
   "outputs": [],
   "source": [
    "pics2 = [\"./pics/6.jpg\", \"./pics/7.jpg\", \"./pics/8.jpg\", \"./pics/9.jpg\", \"./pics/10.jpg\", \"./pics/11.jpg\"]"
   ]
  },
  {
   "attachments": {},
   "cell_type": "markdown",
   "id": "31aa75d9-519d-42ed-9004-377da17326e0",
   "metadata": {},
   "source": [
    "### hibiscus, mint, bamboo, aloevera, geranium, tamarind\n",
    "<p>\n",
    "    <img src=\"./pics/6.jpg\" width=\"180\">\n",
    "    <img src=\"./pics/7.jpg\" width=\"180\">\n",
    "    <img src=\"./pics/8.jpg\" width=\"180\">\n",
    "    <img src=\"./pics/9.jpg\" width=\"180\">\n",
    "    <img src=\"./pics/10.jpg\" width=\"180\">\n",
    "    <img src=\"./pics/11.jpg\" width=\"180\">\n",
    "</p>\n"
   ]
  },
  {
   "cell_type": "code",
   "execution_count": 9,
   "id": "fdae3421-83ae-445d-9e86-906caad4a63d",
   "metadata": {},
   "outputs": [
    {
     "ename": "RuntimeError",
     "evalue": "At least one of TensorFlow 2.0 or PyTorch should be installed. To install TensorFlow 2.0, read the instructions at https://www.tensorflow.org/install/ To install PyTorch, read the instructions at https://pytorch.org/.",
     "output_type": "error",
     "traceback": [
      "\u001b[1;31m---------------------------------------------------------------------------\u001b[0m",
      "\u001b[1;31mRuntimeError\u001b[0m                              Traceback (most recent call last)",
      "Cell \u001b[1;32mIn[9], line 1\u001b[0m\n\u001b[1;32m----> 1\u001b[0m pipe4 \u001b[38;5;241m=\u001b[39m pipeline(\u001b[38;5;124m\"\u001b[39m\u001b[38;5;124mimage-classification\u001b[39m\u001b[38;5;124m\"\u001b[39m, model\u001b[38;5;241m=\u001b[39m\u001b[38;5;124m\"\u001b[39m\u001b[38;5;124mdima806/medicinal_plants_image_detection\u001b[39m\u001b[38;5;124m\"\u001b[39m)\n",
      "File \u001b[1;32m~\\anaconda3\\Lib\\site-packages\\transformers\\pipelines\\__init__.py:940\u001b[0m, in \u001b[0;36mpipeline\u001b[1;34m(task, model, config, tokenizer, feature_extractor, image_processor, processor, framework, revision, use_fast, token, device, device_map, torch_dtype, trust_remote_code, model_kwargs, pipeline_class, **kwargs)\u001b[0m\n\u001b[0;32m    938\u001b[0m \u001b[38;5;28;01mif\u001b[39;00m \u001b[38;5;28misinstance\u001b[39m(model, \u001b[38;5;28mstr\u001b[39m) \u001b[38;5;129;01mor\u001b[39;00m framework \u001b[38;5;129;01mis\u001b[39;00m \u001b[38;5;28;01mNone\u001b[39;00m:\n\u001b[0;32m    939\u001b[0m     model_classes \u001b[38;5;241m=\u001b[39m {\u001b[38;5;124m\"\u001b[39m\u001b[38;5;124mtf\u001b[39m\u001b[38;5;124m\"\u001b[39m: targeted_task[\u001b[38;5;124m\"\u001b[39m\u001b[38;5;124mtf\u001b[39m\u001b[38;5;124m\"\u001b[39m], \u001b[38;5;124m\"\u001b[39m\u001b[38;5;124mpt\u001b[39m\u001b[38;5;124m\"\u001b[39m: targeted_task[\u001b[38;5;124m\"\u001b[39m\u001b[38;5;124mpt\u001b[39m\u001b[38;5;124m\"\u001b[39m]}\n\u001b[1;32m--> 940\u001b[0m     framework, model \u001b[38;5;241m=\u001b[39m infer_framework_load_model(\n\u001b[0;32m    941\u001b[0m         model,\n\u001b[0;32m    942\u001b[0m         model_classes\u001b[38;5;241m=\u001b[39mmodel_classes,\n\u001b[0;32m    943\u001b[0m         config\u001b[38;5;241m=\u001b[39mconfig,\n\u001b[0;32m    944\u001b[0m         framework\u001b[38;5;241m=\u001b[39mframework,\n\u001b[0;32m    945\u001b[0m         task\u001b[38;5;241m=\u001b[39mtask,\n\u001b[0;32m    946\u001b[0m         \u001b[38;5;241m*\u001b[39m\u001b[38;5;241m*\u001b[39mhub_kwargs,\n\u001b[0;32m    947\u001b[0m         \u001b[38;5;241m*\u001b[39m\u001b[38;5;241m*\u001b[39mmodel_kwargs,\n\u001b[0;32m    948\u001b[0m     )\n\u001b[0;32m    950\u001b[0m model_config \u001b[38;5;241m=\u001b[39m model\u001b[38;5;241m.\u001b[39mconfig\n\u001b[0;32m    951\u001b[0m hub_kwargs[\u001b[38;5;124m\"\u001b[39m\u001b[38;5;124m_commit_hash\u001b[39m\u001b[38;5;124m\"\u001b[39m] \u001b[38;5;241m=\u001b[39m model\u001b[38;5;241m.\u001b[39mconfig\u001b[38;5;241m.\u001b[39m_commit_hash\n",
      "File \u001b[1;32m~\\anaconda3\\Lib\\site-packages\\transformers\\pipelines\\base.py:241\u001b[0m, in \u001b[0;36minfer_framework_load_model\u001b[1;34m(model, config, model_classes, task, framework, **model_kwargs)\u001b[0m\n\u001b[0;32m    215\u001b[0m \u001b[38;5;250m\u001b[39m\u001b[38;5;124;03m\"\"\"\u001b[39;00m\n\u001b[0;32m    216\u001b[0m \u001b[38;5;124;03mSelect framework (TensorFlow or PyTorch) to use from the `model` passed. Returns a tuple (framework, model).\u001b[39;00m\n\u001b[0;32m    217\u001b[0m \n\u001b[1;32m   (...)\u001b[0m\n\u001b[0;32m    238\u001b[0m \u001b[38;5;124;03m    `Tuple`: A tuple framework, model.\u001b[39;00m\n\u001b[0;32m    239\u001b[0m \u001b[38;5;124;03m\"\"\"\u001b[39;00m\n\u001b[0;32m    240\u001b[0m \u001b[38;5;28;01mif\u001b[39;00m \u001b[38;5;129;01mnot\u001b[39;00m is_tf_available() \u001b[38;5;129;01mand\u001b[39;00m \u001b[38;5;129;01mnot\u001b[39;00m is_torch_available():\n\u001b[1;32m--> 241\u001b[0m     \u001b[38;5;28;01mraise\u001b[39;00m \u001b[38;5;167;01mRuntimeError\u001b[39;00m(\n\u001b[0;32m    242\u001b[0m         \u001b[38;5;124m\"\u001b[39m\u001b[38;5;124mAt least one of TensorFlow 2.0 or PyTorch should be installed. \u001b[39m\u001b[38;5;124m\"\u001b[39m\n\u001b[0;32m    243\u001b[0m         \u001b[38;5;124m\"\u001b[39m\u001b[38;5;124mTo install TensorFlow 2.0, read the instructions at https://www.tensorflow.org/install/ \u001b[39m\u001b[38;5;124m\"\u001b[39m\n\u001b[0;32m    244\u001b[0m         \u001b[38;5;124m\"\u001b[39m\u001b[38;5;124mTo install PyTorch, read the instructions at https://pytorch.org/.\u001b[39m\u001b[38;5;124m\"\u001b[39m\n\u001b[0;32m    245\u001b[0m     )\n\u001b[0;32m    246\u001b[0m \u001b[38;5;28;01mif\u001b[39;00m \u001b[38;5;28misinstance\u001b[39m(model, \u001b[38;5;28mstr\u001b[39m):\n\u001b[0;32m    247\u001b[0m     model_kwargs[\u001b[38;5;124m\"\u001b[39m\u001b[38;5;124m_from_pipeline\u001b[39m\u001b[38;5;124m\"\u001b[39m] \u001b[38;5;241m=\u001b[39m task\n",
      "\u001b[1;31mRuntimeError\u001b[0m: At least one of TensorFlow 2.0 or PyTorch should be installed. To install TensorFlow 2.0, read the instructions at https://www.tensorflow.org/install/ To install PyTorch, read the instructions at https://pytorch.org/."
     ]
    }
   ],
   "source": [
    "pipe4 = pipeline(\"image-classification\", model=\"dima806/medicinal_plants_image_detection\")"
   ]
  },
  {
   "cell_type": "code",
   "execution_count": 40,
   "id": "80b665df-7e1c-422d-ab46-d93bd9802033",
   "metadata": {},
   "outputs": [
    {
     "name": "stdout",
     "output_type": "stream",
     "text": [
      "Hibiscus\n",
      "Mint\n",
      "Neem\n",
      "Aloevera\n",
      "Wood_sorel\n",
      "Wood_sorel\n"
     ]
    }
   ],
   "source": [
    "res = pipe4(inputs = [pic for pic in pics2])\n",
    "for p in res:\n",
    "    print(p[0][\"label\"])"
   ]
  },
  {
   "cell_type": "markdown",
   "id": "1292ed16-ef3f-494f-a24d-ed913a801ae9",
   "metadata": {},
   "source": [
    "## Классификация растений (2) - более менее, много распространенных домашних цветов"
   ]
  },
  {
   "cell_type": "code",
   "execution_count": 5,
   "id": "59316f94-d947-4f62-9736-1bea76cbdcb6",
   "metadata": {},
   "outputs": [],
   "source": [
    "pics3 = [\"./pics/12.jpg\", \"./pics/13.jpg\", \"./pics/14.jpg\", \"./pics/15.jpg\", \"./pics/16.jpg\", \"./pics/17.jpg\"]"
   ]
  },
  {
   "attachments": {},
   "cell_type": "markdown",
   "id": "e643b747-1dfd-48ec-b4da-70483d85d84f",
   "metadata": {},
   "source": [
    "### geranium, sunflower, clematis, yellow iris, bee balm, silverbush\n",
    "<p>\n",
    "    <img src=\"./pics/12.jpg\" width=\"180\">\n",
    "    <img src=\"./pics/13.jpg\" width=\"180\">\n",
    "    <img src=\"./pics/14.jpg\" width=\"180\">\n",
    "    <img src=\"./pics/15.jpg\" width=\"180\">\n",
    "    <img src=\"./pics/16.jpg\" width=\"180\">\n",
    "    <img src=\"./pics/17.jpg\" width=\"180\">\n",
    "</p>"
   ]
  },
  {
   "cell_type": "code",
   "execution_count": 19,
   "id": "d5885239-c83b-43dc-8572-62cab7ccef36",
   "metadata": {},
   "outputs": [
    {
     "ename": "RuntimeError",
     "evalue": "At least one of TensorFlow 2.0 or PyTorch should be installed. To install TensorFlow 2.0, read the instructions at https://www.tensorflow.org/install/ To install PyTorch, read the instructions at https://pytorch.org/.",
     "output_type": "error",
     "traceback": [
      "\u001b[1;31m---------------------------------------------------------------------------\u001b[0m",
      "\u001b[1;31mRuntimeError\u001b[0m                              Traceback (most recent call last)",
      "Cell \u001b[1;32mIn[19], line 4\u001b[0m\n\u001b[0;32m      1\u001b[0m \u001b[38;5;66;03m# Use a pipeline as a high-level helper\u001b[39;00m\n\u001b[0;32m      2\u001b[0m \u001b[38;5;28;01mfrom\u001b[39;00m \u001b[38;5;21;01mtransformers\u001b[39;00m \u001b[38;5;28;01mimport\u001b[39;00m pipeline\n\u001b[1;32m----> 4\u001b[0m pipe5 \u001b[38;5;241m=\u001b[39m pipeline(\u001b[38;5;124m\"\u001b[39m\u001b[38;5;124mimage-classification\u001b[39m\u001b[38;5;124m\"\u001b[39m, model\u001b[38;5;241m=\u001b[39m\u001b[38;5;124m\"\u001b[39m\u001b[38;5;124mdima806/oxford_flowers_image_detection\u001b[39m\u001b[38;5;124m\"\u001b[39m)\n",
      "File \u001b[1;32m~\\anaconda3\\Lib\\site-packages\\transformers\\pipelines\\__init__.py:940\u001b[0m, in \u001b[0;36mpipeline\u001b[1;34m(task, model, config, tokenizer, feature_extractor, image_processor, processor, framework, revision, use_fast, token, device, device_map, torch_dtype, trust_remote_code, model_kwargs, pipeline_class, **kwargs)\u001b[0m\n\u001b[0;32m    938\u001b[0m \u001b[38;5;28;01mif\u001b[39;00m \u001b[38;5;28misinstance\u001b[39m(model, \u001b[38;5;28mstr\u001b[39m) \u001b[38;5;129;01mor\u001b[39;00m framework \u001b[38;5;129;01mis\u001b[39;00m \u001b[38;5;28;01mNone\u001b[39;00m:\n\u001b[0;32m    939\u001b[0m     model_classes \u001b[38;5;241m=\u001b[39m {\u001b[38;5;124m\"\u001b[39m\u001b[38;5;124mtf\u001b[39m\u001b[38;5;124m\"\u001b[39m: targeted_task[\u001b[38;5;124m\"\u001b[39m\u001b[38;5;124mtf\u001b[39m\u001b[38;5;124m\"\u001b[39m], \u001b[38;5;124m\"\u001b[39m\u001b[38;5;124mpt\u001b[39m\u001b[38;5;124m\"\u001b[39m: targeted_task[\u001b[38;5;124m\"\u001b[39m\u001b[38;5;124mpt\u001b[39m\u001b[38;5;124m\"\u001b[39m]}\n\u001b[1;32m--> 940\u001b[0m     framework, model \u001b[38;5;241m=\u001b[39m infer_framework_load_model(\n\u001b[0;32m    941\u001b[0m         model,\n\u001b[0;32m    942\u001b[0m         model_classes\u001b[38;5;241m=\u001b[39mmodel_classes,\n\u001b[0;32m    943\u001b[0m         config\u001b[38;5;241m=\u001b[39mconfig,\n\u001b[0;32m    944\u001b[0m         framework\u001b[38;5;241m=\u001b[39mframework,\n\u001b[0;32m    945\u001b[0m         task\u001b[38;5;241m=\u001b[39mtask,\n\u001b[0;32m    946\u001b[0m         \u001b[38;5;241m*\u001b[39m\u001b[38;5;241m*\u001b[39mhub_kwargs,\n\u001b[0;32m    947\u001b[0m         \u001b[38;5;241m*\u001b[39m\u001b[38;5;241m*\u001b[39mmodel_kwargs,\n\u001b[0;32m    948\u001b[0m     )\n\u001b[0;32m    950\u001b[0m model_config \u001b[38;5;241m=\u001b[39m model\u001b[38;5;241m.\u001b[39mconfig\n\u001b[0;32m    951\u001b[0m hub_kwargs[\u001b[38;5;124m\"\u001b[39m\u001b[38;5;124m_commit_hash\u001b[39m\u001b[38;5;124m\"\u001b[39m] \u001b[38;5;241m=\u001b[39m model\u001b[38;5;241m.\u001b[39mconfig\u001b[38;5;241m.\u001b[39m_commit_hash\n",
      "File \u001b[1;32m~\\anaconda3\\Lib\\site-packages\\transformers\\pipelines\\base.py:241\u001b[0m, in \u001b[0;36minfer_framework_load_model\u001b[1;34m(model, config, model_classes, task, framework, **model_kwargs)\u001b[0m\n\u001b[0;32m    215\u001b[0m \u001b[38;5;250m\u001b[39m\u001b[38;5;124;03m\"\"\"\u001b[39;00m\n\u001b[0;32m    216\u001b[0m \u001b[38;5;124;03mSelect framework (TensorFlow or PyTorch) to use from the `model` passed. Returns a tuple (framework, model).\u001b[39;00m\n\u001b[0;32m    217\u001b[0m \n\u001b[1;32m   (...)\u001b[0m\n\u001b[0;32m    238\u001b[0m \u001b[38;5;124;03m    `Tuple`: A tuple framework, model.\u001b[39;00m\n\u001b[0;32m    239\u001b[0m \u001b[38;5;124;03m\"\"\"\u001b[39;00m\n\u001b[0;32m    240\u001b[0m \u001b[38;5;28;01mif\u001b[39;00m \u001b[38;5;129;01mnot\u001b[39;00m is_tf_available() \u001b[38;5;129;01mand\u001b[39;00m \u001b[38;5;129;01mnot\u001b[39;00m is_torch_available():\n\u001b[1;32m--> 241\u001b[0m     \u001b[38;5;28;01mraise\u001b[39;00m \u001b[38;5;167;01mRuntimeError\u001b[39;00m(\n\u001b[0;32m    242\u001b[0m         \u001b[38;5;124m\"\u001b[39m\u001b[38;5;124mAt least one of TensorFlow 2.0 or PyTorch should be installed. \u001b[39m\u001b[38;5;124m\"\u001b[39m\n\u001b[0;32m    243\u001b[0m         \u001b[38;5;124m\"\u001b[39m\u001b[38;5;124mTo install TensorFlow 2.0, read the instructions at https://www.tensorflow.org/install/ \u001b[39m\u001b[38;5;124m\"\u001b[39m\n\u001b[0;32m    244\u001b[0m         \u001b[38;5;124m\"\u001b[39m\u001b[38;5;124mTo install PyTorch, read the instructions at https://pytorch.org/.\u001b[39m\u001b[38;5;124m\"\u001b[39m\n\u001b[0;32m    245\u001b[0m     )\n\u001b[0;32m    246\u001b[0m \u001b[38;5;28;01mif\u001b[39;00m \u001b[38;5;28misinstance\u001b[39m(model, \u001b[38;5;28mstr\u001b[39m):\n\u001b[0;32m    247\u001b[0m     model_kwargs[\u001b[38;5;124m\"\u001b[39m\u001b[38;5;124m_from_pipeline\u001b[39m\u001b[38;5;124m\"\u001b[39m] \u001b[38;5;241m=\u001b[39m task\n",
      "\u001b[1;31mRuntimeError\u001b[0m: At least one of TensorFlow 2.0 or PyTorch should be installed. To install TensorFlow 2.0, read the instructions at https://www.tensorflow.org/install/ To install PyTorch, read the instructions at https://pytorch.org/."
     ]
    }
   ],
   "source": [
    "# Use a pipeline as a high-level helper\n",
    "from transformers import pipeline\n",
    "\n",
    "pipe5 = pipeline(\"image-classification\", model=\"dima806/oxford_flowers_image_detection\")"
   ]
  },
  {
   "cell_type": "code",
   "execution_count": 17,
   "id": "5489e908-f5bf-4025-a23a-32b058c58841",
   "metadata": {},
   "outputs": [
    {
     "ename": "NameError",
     "evalue": "name 'pipe5' is not defined",
     "output_type": "error",
     "traceback": [
      "\u001b[1;31m---------------------------------------------------------------------------\u001b[0m",
      "\u001b[1;31mNameError\u001b[0m                                 Traceback (most recent call last)",
      "Cell \u001b[1;32mIn[17], line 1\u001b[0m\n\u001b[1;32m----> 1\u001b[0m res \u001b[38;5;241m=\u001b[39m pipe5(inputs \u001b[38;5;241m=\u001b[39m [pic \u001b[38;5;28;01mfor\u001b[39;00m pic \u001b[38;5;129;01min\u001b[39;00m pics3])\n\u001b[0;32m      2\u001b[0m \u001b[38;5;28;01mfor\u001b[39;00m p \u001b[38;5;129;01min\u001b[39;00m res:\n\u001b[0;32m      3\u001b[0m     \u001b[38;5;28mprint\u001b[39m(p[\u001b[38;5;241m0\u001b[39m][\u001b[38;5;124m\"\u001b[39m\u001b[38;5;124mlabel\u001b[39m\u001b[38;5;124m\"\u001b[39m])\n",
      "\u001b[1;31mNameError\u001b[0m: name 'pipe5' is not defined"
     ]
    }
   ],
   "source": [
    "res = pipe5(inputs = [pic for pic in pics3])\n",
    "for p in res:\n",
    "    print(p[0][\"label\"])"
   ]
  },
  {
   "cell_type": "code",
   "execution_count": 3,
   "id": "8bfd45b5-5f94-4039-b24c-0f30dcd4b37c",
   "metadata": {
    "collapsed": true,
    "jupyter": {
     "outputs_hidden": true
    }
   },
   "outputs": [
    {
     "name": "stdout",
     "output_type": "stream",
     "text": [
      "Collecting transformers\n",
      "  Downloading transformers-4.49.0-py3-none-any.whl.metadata (44 kB)\n",
      "Requirement already satisfied: filelock in c:\\users\\naya\\anaconda3\\lib\\site-packages (from transformers) (3.13.1)\n",
      "Collecting huggingface-hub<1.0,>=0.26.0 (from transformers)\n",
      "  Using cached huggingface_hub-0.28.1-py3-none-any.whl.metadata (13 kB)\n",
      "Requirement already satisfied: numpy>=1.17 in c:\\users\\naya\\anaconda3\\lib\\site-packages (from transformers) (1.26.4)\n",
      "Requirement already satisfied: packaging>=20.0 in c:\\users\\naya\\anaconda3\\lib\\site-packages (from transformers) (24.1)\n",
      "Requirement already satisfied: pyyaml>=5.1 in c:\\users\\naya\\anaconda3\\lib\\site-packages (from transformers) (6.0.1)\n",
      "Requirement already satisfied: regex!=2019.12.17 in c:\\users\\naya\\anaconda3\\lib\\site-packages (from transformers) (2024.9.11)\n",
      "Requirement already satisfied: requests in c:\\users\\naya\\anaconda3\\lib\\site-packages (from transformers) (2.32.3)\n",
      "Collecting tokenizers<0.22,>=0.21 (from transformers)\n",
      "  Using cached tokenizers-0.21.0-cp39-abi3-win_amd64.whl.metadata (6.9 kB)\n",
      "Collecting safetensors>=0.4.1 (from transformers)\n",
      "  Using cached safetensors-0.5.2-cp38-abi3-win_amd64.whl.metadata (3.9 kB)\n",
      "Requirement already satisfied: tqdm>=4.27 in c:\\users\\naya\\anaconda3\\lib\\site-packages (from transformers) (4.66.5)\n",
      "Requirement already satisfied: fsspec>=2023.5.0 in c:\\users\\naya\\anaconda3\\lib\\site-packages (from huggingface-hub<1.0,>=0.26.0->transformers) (2024.6.1)\n",
      "Requirement already satisfied: typing-extensions>=3.7.4.3 in c:\\users\\naya\\anaconda3\\lib\\site-packages (from huggingface-hub<1.0,>=0.26.0->transformers) (4.11.0)\n",
      "Requirement already satisfied: colorama in c:\\users\\naya\\anaconda3\\lib\\site-packages (from tqdm>=4.27->transformers) (0.4.6)\n",
      "Requirement already satisfied: charset-normalizer<4,>=2 in c:\\users\\naya\\anaconda3\\lib\\site-packages (from requests->transformers) (3.3.2)\n",
      "Requirement already satisfied: idna<4,>=2.5 in c:\\users\\naya\\anaconda3\\lib\\site-packages (from requests->transformers) (3.7)\n",
      "Requirement already satisfied: urllib3<3,>=1.21.1 in c:\\users\\naya\\anaconda3\\lib\\site-packages (from requests->transformers) (2.2.3)\n",
      "Requirement already satisfied: certifi>=2017.4.17 in c:\\users\\naya\\anaconda3\\lib\\site-packages (from requests->transformers) (2025.1.31)\n",
      "Downloading transformers-4.49.0-py3-none-any.whl (10.0 MB)\n",
      "   ---------------------------------------- 0.0/10.0 MB ? eta -:--:--\n",
      "   ------- -------------------------------- 1.8/10.0 MB 11.2 MB/s eta 0:00:01\n",
      "   ----------------------- ---------------- 5.8/10.0 MB 15.3 MB/s eta 0:00:01\n",
      "   -------------------------------------- - 9.7/10.0 MB 16.8 MB/s eta 0:00:01\n",
      "   ---------------------------------------- 10.0/10.0 MB 14.4 MB/s eta 0:00:00\n",
      "Using cached huggingface_hub-0.28.1-py3-none-any.whl (464 kB)\n",
      "Using cached safetensors-0.5.2-cp38-abi3-win_amd64.whl (303 kB)\n",
      "Using cached tokenizers-0.21.0-cp39-abi3-win_amd64.whl (2.4 MB)\n",
      "Installing collected packages: safetensors, huggingface-hub, tokenizers, transformers\n",
      "Successfully installed huggingface-hub-0.28.1 safetensors-0.5.2 tokenizers-0.21.0 transformers-4.49.0\n"
     ]
    }
   ],
   "source": [
    "!pip install transformers"
   ]
  },
  {
   "cell_type": "code",
   "execution_count": 15,
   "id": "59ccdf2d-89bc-4990-a276-b1133535c6ab",
   "metadata": {},
   "outputs": [
    {
     "name": "stdout",
     "output_type": "stream",
     "text": [
      "Collecting torch\n",
      "  Using cached torch-2.6.0-cp312-cp312-win_amd64.whl.metadata (28 kB)\n",
      "Collecting torchvision\n",
      "  Downloading torchvision-0.21.0-cp312-cp312-win_amd64.whl.metadata (6.3 kB)\n",
      "Collecting torchaudio\n",
      "  Downloading torchaudio-2.6.0-cp312-cp312-win_amd64.whl.metadata (6.7 kB)\n",
      "Requirement already satisfied: filelock in c:\\users\\naya\\anaconda3\\lib\\site-packages (from torch) (3.13.1)\n",
      "Requirement already satisfied: typing-extensions>=4.10.0 in c:\\users\\naya\\anaconda3\\lib\\site-packages (from torch) (4.11.0)\n",
      "Requirement already satisfied: networkx in c:\\users\\naya\\anaconda3\\lib\\site-packages (from torch) (3.3)\n",
      "Requirement already satisfied: jinja2 in c:\\users\\naya\\anaconda3\\lib\\site-packages (from torch) (3.1.4)\n",
      "Requirement already satisfied: fsspec in c:\\users\\naya\\anaconda3\\lib\\site-packages (from torch) (2024.6.1)\n",
      "Requirement already satisfied: setuptools in c:\\users\\naya\\anaconda3\\lib\\site-packages (from torch) (75.1.0)\n",
      "Collecting sympy==1.13.1 (from torch)\n",
      "  Using cached sympy-1.13.1-py3-none-any.whl.metadata (12 kB)\n",
      "Requirement already satisfied: mpmath<1.4,>=1.1.0 in c:\\users\\naya\\anaconda3\\lib\\site-packages (from sympy==1.13.1->torch) (1.3.0)\n",
      "Requirement already satisfied: numpy in c:\\users\\naya\\anaconda3\\lib\\site-packages (from torchvision) (1.26.4)\n",
      "Requirement already satisfied: pillow!=8.3.*,>=5.3.0 in c:\\users\\naya\\anaconda3\\lib\\site-packages (from torchvision) (10.4.0)\n",
      "Requirement already satisfied: MarkupSafe>=2.0 in c:\\users\\naya\\anaconda3\\lib\\site-packages (from jinja2->torch) (2.1.3)\n",
      "Downloading torch-2.6.0-cp312-cp312-win_amd64.whl (204.1 MB)\n",
      "   ---------------------------------------- 0.0/204.1 MB ? eta -:--:--\n",
      "   ---------------------------------------- 1.0/204.1 MB 10.1 MB/s eta 0:00:21\n",
      "    --------------------------------------- 3.7/204.1 MB 12.1 MB/s eta 0:00:17\n",
      "   - -------------------------------------- 6.3/204.1 MB 12.9 MB/s eta 0:00:16\n",
      "   - -------------------------------------- 9.4/204.1 MB 13.1 MB/s eta 0:00:15\n",
      "   -- ------------------------------------- 11.3/204.1 MB 11.8 MB/s eta 0:00:17\n",
      "   -- ------------------------------------- 13.1/204.1 MB 11.3 MB/s eta 0:00:17\n",
      "   -- ------------------------------------- 14.4/204.1 MB 10.5 MB/s eta 0:00:19\n",
      "   --- ------------------------------------ 15.7/204.1 MB 10.1 MB/s eta 0:00:19\n",
      "   --- ------------------------------------ 17.0/204.1 MB 9.5 MB/s eta 0:00:20\n",
      "   --- ------------------------------------ 18.1/204.1 MB 9.0 MB/s eta 0:00:21\n",
      "   --- ------------------------------------ 19.1/204.1 MB 8.6 MB/s eta 0:00:22\n",
      "   --- ------------------------------------ 20.2/204.1 MB 8.3 MB/s eta 0:00:23\n",
      "   ---- ----------------------------------- 21.0/204.1 MB 8.0 MB/s eta 0:00:23\n",
      "   ---- ----------------------------------- 22.0/204.1 MB 7.7 MB/s eta 0:00:24\n",
      "   ---- ----------------------------------- 22.8/204.1 MB 7.5 MB/s eta 0:00:25\n",
      "   ---- ----------------------------------- 23.6/204.1 MB 7.2 MB/s eta 0:00:25\n",
      "   ---- ----------------------------------- 24.6/204.1 MB 7.1 MB/s eta 0:00:26\n",
      "   ---- ----------------------------------- 25.4/204.1 MB 6.9 MB/s eta 0:00:26\n",
      "   ----- ---------------------------------- 26.2/204.1 MB 6.8 MB/s eta 0:00:27\n",
      "   ----- ---------------------------------- 27.3/204.1 MB 6.6 MB/s eta 0:00:27\n",
      "   ----- ---------------------------------- 28.0/204.1 MB 6.6 MB/s eta 0:00:27\n",
      "   ----- ---------------------------------- 29.1/204.1 MB 6.5 MB/s eta 0:00:28\n",
      "   ----- ---------------------------------- 29.9/204.1 MB 6.4 MB/s eta 0:00:28\n",
      "   ------ --------------------------------- 30.7/204.1 MB 6.3 MB/s eta 0:00:28\n",
      "   ------ --------------------------------- 31.2/204.1 MB 6.1 MB/s eta 0:00:29\n",
      "   ------ --------------------------------- 32.0/204.1 MB 6.0 MB/s eta 0:00:29\n",
      "   ------ --------------------------------- 32.8/204.1 MB 5.9 MB/s eta 0:00:29\n",
      "   ------ --------------------------------- 33.3/204.1 MB 5.8 MB/s eta 0:00:30\n",
      "   ------ --------------------------------- 33.8/204.1 MB 5.7 MB/s eta 0:00:30\n",
      "   ------ --------------------------------- 34.1/204.1 MB 5.6 MB/s eta 0:00:31\n",
      "   ------ --------------------------------- 34.3/204.1 MB 5.4 MB/s eta 0:00:32\n",
      "   ------ --------------------------------- 34.3/204.1 MB 5.4 MB/s eta 0:00:32\n",
      "   ------ --------------------------------- 34.6/204.1 MB 5.2 MB/s eta 0:00:33\n",
      "   ------ --------------------------------- 34.6/204.1 MB 5.2 MB/s eta 0:00:33\n",
      "   ------ --------------------------------- 34.9/204.1 MB 5.0 MB/s eta 0:00:35\n",
      "   ------ --------------------------------- 35.1/204.1 MB 4.8 MB/s eta 0:00:36\n",
      "   ------ --------------------------------- 35.4/204.1 MB 4.7 MB/s eta 0:00:37\n",
      "   ------ --------------------------------- 35.7/204.1 MB 4.6 MB/s eta 0:00:37\n",
      "   ------- -------------------------------- 35.9/204.1 MB 4.5 MB/s eta 0:00:38\n",
      "   ------- -------------------------------- 36.2/204.1 MB 4.4 MB/s eta 0:00:38\n",
      "   ------- -------------------------------- 36.7/204.1 MB 4.3 MB/s eta 0:00:39\n",
      "   ------- -------------------------------- 37.0/204.1 MB 4.3 MB/s eta 0:00:40\n",
      "   ------- -------------------------------- 37.2/204.1 MB 4.2 MB/s eta 0:00:40\n",
      "   ------- -------------------------------- 37.7/204.1 MB 4.1 MB/s eta 0:00:41\n",
      "   ------- -------------------------------- 38.0/204.1 MB 4.1 MB/s eta 0:00:41\n",
      "   ------- -------------------------------- 38.5/204.1 MB 4.0 MB/s eta 0:00:41\n",
      "   ------- -------------------------------- 39.1/204.1 MB 4.0 MB/s eta 0:00:42\n",
      "   ------- -------------------------------- 39.6/204.1 MB 4.0 MB/s eta 0:00:42\n",
      "   ------- -------------------------------- 40.1/204.1 MB 3.9 MB/s eta 0:00:42\n",
      "   ------- -------------------------------- 40.4/204.1 MB 3.9 MB/s eta 0:00:42\n",
      "   -------- ------------------------------- 41.2/204.1 MB 3.9 MB/s eta 0:00:43\n",
      "   -------- ------------------------------- 41.4/204.1 MB 3.8 MB/s eta 0:00:43\n",
      "   -------- ------------------------------- 41.7/204.1 MB 3.8 MB/s eta 0:00:43\n",
      "   -------- ------------------------------- 41.9/204.1 MB 3.8 MB/s eta 0:00:44\n",
      "   -------- ------------------------------- 42.2/204.1 MB 3.7 MB/s eta 0:00:44\n",
      "   -------- ------------------------------- 42.5/204.1 MB 3.7 MB/s eta 0:00:44\n",
      "   -------- ------------------------------- 42.7/204.1 MB 3.6 MB/s eta 0:00:45\n",
      "   -------- ------------------------------- 43.0/204.1 MB 3.6 MB/s eta 0:00:46\n",
      "   -------- ------------------------------- 43.3/204.1 MB 3.5 MB/s eta 0:00:46\n",
      "   -------- ------------------------------- 43.3/204.1 MB 3.5 MB/s eta 0:00:46\n",
      "   -------- ------------------------------- 43.5/204.1 MB 3.5 MB/s eta 0:00:47\n",
      "   -------- ------------------------------- 43.8/204.1 MB 3.4 MB/s eta 0:00:47\n",
      "   -------- ------------------------------- 44.3/204.1 MB 3.4 MB/s eta 0:00:48\n",
      "   -------- ------------------------------- 44.6/204.1 MB 3.3 MB/s eta 0:00:48\n",
      "   -------- ------------------------------- 44.8/204.1 MB 3.3 MB/s eta 0:00:49\n",
      "   -------- ------------------------------- 45.4/204.1 MB 3.3 MB/s eta 0:00:49\n",
      "   -------- ------------------------------- 45.6/204.1 MB 3.3 MB/s eta 0:00:49\n",
      "   --------- ------------------------------ 46.1/204.1 MB 3.2 MB/s eta 0:00:49\n",
      "   --------- ------------------------------ 46.4/204.1 MB 3.2 MB/s eta 0:00:49\n",
      "   --------- ------------------------------ 46.9/204.1 MB 3.2 MB/s eta 0:00:50\n",
      "   --------- ------------------------------ 47.4/204.1 MB 3.2 MB/s eta 0:00:50\n",
      "   --------- ------------------------------ 47.7/204.1 MB 3.2 MB/s eta 0:00:50\n",
      "   --------- ------------------------------ 48.2/204.1 MB 3.2 MB/s eta 0:00:50\n",
      "   --------- ------------------------------ 48.8/204.1 MB 3.2 MB/s eta 0:00:50\n",
      "   --------- ------------------------------ 49.3/204.1 MB 3.1 MB/s eta 0:00:50\n",
      "   --------- ------------------------------ 49.5/204.1 MB 3.1 MB/s eta 0:00:50\n",
      "   --------- ------------------------------ 49.8/204.1 MB 3.1 MB/s eta 0:00:50\n",
      "   --------- ------------------------------ 49.8/204.1 MB 3.1 MB/s eta 0:00:50\n",
      "   --------- ------------------------------ 50.1/204.1 MB 3.0 MB/s eta 0:00:51\n",
      "   --------- ------------------------------ 50.1/204.1 MB 3.0 MB/s eta 0:00:51\n",
      "   --------- ------------------------------ 50.3/204.1 MB 3.0 MB/s eta 0:00:52\n",
      "   --------- ------------------------------ 50.3/204.1 MB 3.0 MB/s eta 0:00:52\n",
      "   --------- ------------------------------ 50.6/204.1 MB 2.9 MB/s eta 0:00:53\n",
      "   --------- ------------------------------ 50.9/204.1 MB 2.9 MB/s eta 0:00:53\n",
      "   --------- ------------------------------ 50.9/204.1 MB 2.9 MB/s eta 0:00:53\n",
      "   ---------- ----------------------------- 51.1/204.1 MB 2.9 MB/s eta 0:00:54\n",
      "   ---------- ----------------------------- 51.4/204.1 MB 2.8 MB/s eta 0:00:54\n",
      "   ---------- ----------------------------- 51.9/204.1 MB 2.8 MB/s eta 0:00:55\n",
      "   ---------- ----------------------------- 52.2/204.1 MB 2.8 MB/s eta 0:00:55\n",
      "   ---------- ----------------------------- 52.4/204.1 MB 2.8 MB/s eta 0:00:55\n",
      "   ---------- ----------------------------- 53.0/204.1 MB 2.8 MB/s eta 0:00:55\n",
      "   ---------- ----------------------------- 53.2/204.1 MB 2.8 MB/s eta 0:00:55\n",
      "   ---------- ----------------------------- 53.7/204.1 MB 2.8 MB/s eta 0:00:55\n",
      "   ---------- ----------------------------- 54.0/204.1 MB 2.7 MB/s eta 0:00:55\n",
      "   ---------- ----------------------------- 54.5/204.1 MB 2.7 MB/s eta 0:00:55\n",
      "   ---------- ----------------------------- 54.8/204.1 MB 2.7 MB/s eta 0:00:55\n",
      "   ---------- ----------------------------- 55.3/204.1 MB 2.7 MB/s eta 0:00:55\n",
      "   ---------- ----------------------------- 55.8/204.1 MB 2.7 MB/s eta 0:00:55\n",
      "   ---------- ----------------------------- 56.1/204.1 MB 2.7 MB/s eta 0:00:55\n",
      "   ----------- ---------------------------- 56.4/204.1 MB 2.7 MB/s eta 0:00:55\n",
      "   ----------- ---------------------------- 56.6/204.1 MB 2.7 MB/s eta 0:00:55\n",
      "   ----------- ---------------------------- 56.9/204.1 MB 2.7 MB/s eta 0:00:56\n",
      "   ----------- ---------------------------- 57.1/204.1 MB 2.6 MB/s eta 0:00:56\n",
      "   ----------- ---------------------------- 57.4/204.1 MB 2.6 MB/s eta 0:00:56\n",
      "   ----------- ---------------------------- 57.7/204.1 MB 2.6 MB/s eta 0:00:56\n",
      "   ----------- ---------------------------- 57.9/204.1 MB 2.6 MB/s eta 0:00:57\n",
      "   ----------- ---------------------------- 58.2/204.1 MB 2.6 MB/s eta 0:00:57\n",
      "   ----------- ---------------------------- 58.5/204.1 MB 2.6 MB/s eta 0:00:57\n",
      "   ----------- ---------------------------- 59.0/204.1 MB 2.6 MB/s eta 0:00:57\n",
      "   ----------- ---------------------------- 59.2/204.1 MB 2.6 MB/s eta 0:00:57\n",
      "   ----------- ---------------------------- 59.8/204.1 MB 2.6 MB/s eta 0:00:57\n",
      "   ----------- ---------------------------- 60.0/204.1 MB 2.6 MB/s eta 0:00:57\n",
      "   ----------- ---------------------------- 60.6/204.1 MB 2.6 MB/s eta 0:00:57\n",
      "   ----------- ---------------------------- 61.1/204.1 MB 2.6 MB/s eta 0:00:57\n",
      "   ------------ --------------------------- 61.3/204.1 MB 2.6 MB/s eta 0:00:56\n",
      "   ------------ --------------------------- 61.9/204.1 MB 2.6 MB/s eta 0:00:56\n",
      "   ------------ --------------------------- 62.4/204.1 MB 2.5 MB/s eta 0:00:56\n",
      "   ------------ --------------------------- 62.9/204.1 MB 2.5 MB/s eta 0:00:56\n",
      "   ------------ --------------------------- 63.7/204.1 MB 2.6 MB/s eta 0:00:56\n",
      "   ------------ --------------------------- 64.2/204.1 MB 2.6 MB/s eta 0:00:55\n",
      "   ------------ --------------------------- 64.7/204.1 MB 2.6 MB/s eta 0:00:55\n",
      "   ------------ --------------------------- 65.3/204.1 MB 2.6 MB/s eta 0:00:55\n",
      "   ------------ --------------------------- 65.8/204.1 MB 2.6 MB/s eta 0:00:55\n",
      "   ------------ --------------------------- 66.1/204.1 MB 2.5 MB/s eta 0:00:55\n",
      "   ------------ --------------------------- 66.1/204.1 MB 2.5 MB/s eta 0:00:55\n",
      "   ------------ --------------------------- 66.3/204.1 MB 2.5 MB/s eta 0:00:55\n",
      "   ------------ --------------------------- 66.3/204.1 MB 2.5 MB/s eta 0:00:55\n",
      "   ------------- -------------------------- 66.6/204.1 MB 2.5 MB/s eta 0:00:56\n",
      "   ------------- -------------------------- 66.8/204.1 MB 2.5 MB/s eta 0:00:56\n",
      "   ------------- -------------------------- 66.8/204.1 MB 2.5 MB/s eta 0:00:56\n",
      "   ------------- -------------------------- 67.1/204.1 MB 2.5 MB/s eta 0:00:56\n",
      "   ------------- -------------------------- 67.4/204.1 MB 2.4 MB/s eta 0:00:57\n",
      "   ------------- -------------------------- 67.6/204.1 MB 2.4 MB/s eta 0:00:57\n",
      "   ------------- -------------------------- 67.9/204.1 MB 2.4 MB/s eta 0:00:57\n",
      "   ------------- -------------------------- 68.2/204.1 MB 2.4 MB/s eta 0:00:57\n",
      "   ------------- -------------------------- 68.7/204.1 MB 2.4 MB/s eta 0:00:57\n",
      "   ------------- -------------------------- 68.9/204.1 MB 2.4 MB/s eta 0:00:57\n",
      "   ------------- -------------------------- 69.2/204.1 MB 2.4 MB/s eta 0:00:57\n",
      "   ------------- -------------------------- 69.5/204.1 MB 2.4 MB/s eta 0:00:57\n",
      "   ------------- -------------------------- 70.0/204.1 MB 2.4 MB/s eta 0:00:57\n",
      "   ------------- -------------------------- 70.5/204.1 MB 2.4 MB/s eta 0:00:57\n",
      "   ------------- -------------------------- 70.8/204.1 MB 2.4 MB/s eta 0:00:57\n",
      "   ------------- -------------------------- 71.3/204.1 MB 2.4 MB/s eta 0:00:56\n",
      "   -------------- ------------------------- 71.8/204.1 MB 2.3 MB/s eta 0:00:57\n",
      "   -------------- ------------------------- 72.4/204.1 MB 2.3 MB/s eta 0:00:59\n",
      "   -------------- ------------------------- 72.9/204.1 MB 2.2 MB/s eta 0:01:01\n",
      "   -------------- ------------------------- 73.1/204.1 MB 2.1 MB/s eta 0:01:02\n",
      "   -------------- ------------------------- 73.7/204.1 MB 2.1 MB/s eta 0:01:02\n",
      "   -------------- ------------------------- 73.9/204.1 MB 2.0 MB/s eta 0:01:04\n",
      "   -------------- ------------------------- 74.2/204.1 MB 2.0 MB/s eta 0:01:06\n",
      "   -------------- ------------------------- 74.2/204.1 MB 2.0 MB/s eta 0:01:06\n",
      "   -------------- ------------------------- 74.4/204.1 MB 1.9 MB/s eta 0:01:08\n",
      "   -------------- ------------------------- 74.7/204.1 MB 1.9 MB/s eta 0:01:09\n",
      "   -------------- ------------------------- 74.7/204.1 MB 1.9 MB/s eta 0:01:09\n",
      "   -------------- ------------------------- 75.0/204.1 MB 1.8 MB/s eta 0:01:11\n",
      "   -------------- ------------------------- 75.2/204.1 MB 1.8 MB/s eta 0:01:12\n",
      "   -------------- ------------------------- 75.5/204.1 MB 1.8 MB/s eta 0:01:13\n",
      "   -------------- ------------------------- 75.8/204.1 MB 1.8 MB/s eta 0:01:13\n",
      "   -------------- ------------------------- 76.0/204.1 MB 1.7 MB/s eta 0:01:14\n",
      "   --------------- ------------------------ 76.5/204.1 MB 1.7 MB/s eta 0:01:15\n",
      "   --------------- ------------------------ 76.5/204.1 MB 1.7 MB/s eta 0:01:15\n",
      "   --------------- ------------------------ 77.1/204.1 MB 1.7 MB/s eta 0:01:17\n",
      "   --------------- ------------------------ 77.3/204.1 MB 1.7 MB/s eta 0:01:17\n",
      "   --------------- ------------------------ 77.9/204.1 MB 1.6 MB/s eta 0:01:18\n",
      "   --------------- ------------------------ 78.1/204.1 MB 1.6 MB/s eta 0:01:18\n",
      "   --------------- ------------------------ 78.6/204.1 MB 1.6 MB/s eta 0:01:19\n",
      "   --------------- ------------------------ 79.2/204.1 MB 1.6 MB/s eta 0:01:19\n",
      "   --------------- ------------------------ 79.4/204.1 MB 1.6 MB/s eta 0:01:19\n",
      "   --------------- ------------------------ 79.7/204.1 MB 1.6 MB/s eta 0:01:19\n",
      "   --------------- ------------------------ 80.2/204.1 MB 1.6 MB/s eta 0:01:20\n",
      "   --------------- ------------------------ 80.2/204.1 MB 1.6 MB/s eta 0:01:20\n",
      "   --------------- ------------------------ 80.5/204.1 MB 1.6 MB/s eta 0:01:20\n",
      "   --------------- ------------------------ 80.5/204.1 MB 1.6 MB/s eta 0:01:20\n",
      "   --------------- ------------------------ 80.7/204.1 MB 1.6 MB/s eta 0:01:20\n",
      "   --------------- ------------------------ 81.0/204.1 MB 1.5 MB/s eta 0:01:20\n",
      "   --------------- ------------------------ 81.3/204.1 MB 1.6 MB/s eta 0:01:20\n",
      "   --------------- ------------------------ 81.5/204.1 MB 1.6 MB/s eta 0:01:19\n",
      "   ---------------- ----------------------- 81.8/204.1 MB 1.6 MB/s eta 0:01:19\n",
      "   ---------------- ----------------------- 82.1/204.1 MB 1.6 MB/s eta 0:01:19\n",
      "   ---------------- ----------------------- 82.3/204.1 MB 1.6 MB/s eta 0:01:19\n",
      "   ---------------- ----------------------- 82.3/204.1 MB 1.6 MB/s eta 0:01:19\n",
      "   ---------------- ----------------------- 82.6/204.1 MB 1.6 MB/s eta 0:01:19\n",
      "   ---------------- ----------------------- 82.8/204.1 MB 1.5 MB/s eta 0:01:19\n",
      "   ---------------- ----------------------- 83.1/204.1 MB 1.5 MB/s eta 0:01:19\n",
      "   ---------------- ----------------------- 83.6/204.1 MB 1.5 MB/s eta 0:01:19\n",
      "   ---------------- ----------------------- 83.9/204.1 MB 1.5 MB/s eta 0:01:19\n",
      "   ---------------- ----------------------- 84.1/204.1 MB 1.5 MB/s eta 0:01:18\n",
      "   ---------------- ----------------------- 84.4/204.1 MB 1.5 MB/s eta 0:01:19\n",
      "   ---------------- ----------------------- 84.7/204.1 MB 1.5 MB/s eta 0:01:19\n",
      "   ---------------- ----------------------- 85.2/204.1 MB 1.5 MB/s eta 0:01:19\n",
      "   ---------------- ----------------------- 85.5/204.1 MB 1.5 MB/s eta 0:01:19\n",
      "   ---------------- ----------------------- 85.7/204.1 MB 1.5 MB/s eta 0:01:19\n",
      "   ---------------- ----------------------- 86.0/204.1 MB 1.5 MB/s eta 0:01:19\n",
      "   ---------------- ----------------------- 86.2/204.1 MB 1.5 MB/s eta 0:01:19\n",
      "   ---------------- ----------------------- 86.5/204.1 MB 1.5 MB/s eta 0:01:19\n",
      "   ----------------- ---------------------- 86.8/204.1 MB 1.5 MB/s eta 0:01:19\n",
      "   ----------------- ---------------------- 86.8/204.1 MB 1.5 MB/s eta 0:01:19\n",
      "   ----------------- ---------------------- 87.0/204.1 MB 1.5 MB/s eta 0:01:19\n",
      "   ----------------- ---------------------- 87.3/204.1 MB 1.5 MB/s eta 0:01:19\n",
      "   ----------------- ---------------------- 87.8/204.1 MB 1.5 MB/s eta 0:01:18\n",
      "   ----------------- ---------------------- 88.1/204.1 MB 1.5 MB/s eta 0:01:18\n",
      "   ----------------- ---------------------- 88.3/204.1 MB 1.5 MB/s eta 0:01:18\n",
      "   ----------------- ---------------------- 88.6/204.1 MB 1.5 MB/s eta 0:01:17\n",
      "   ----------------- ---------------------- 89.1/204.1 MB 1.5 MB/s eta 0:01:17\n",
      "   ----------------- ---------------------- 89.4/204.1 MB 1.5 MB/s eta 0:01:16\n",
      "   ----------------- ---------------------- 89.9/204.1 MB 1.5 MB/s eta 0:01:16\n",
      "   ----------------- ---------------------- 90.4/204.1 MB 1.5 MB/s eta 0:01:15\n",
      "   ----------------- ---------------------- 90.7/204.1 MB 1.5 MB/s eta 0:01:15\n",
      "   ----------------- ---------------------- 91.2/204.1 MB 1.5 MB/s eta 0:01:15\n",
      "   ----------------- ---------------------- 91.8/204.1 MB 1.5 MB/s eta 0:01:14\n",
      "   ------------------ --------------------- 92.3/204.1 MB 1.5 MB/s eta 0:01:13\n",
      "   ------------------ --------------------- 92.8/204.1 MB 1.5 MB/s eta 0:01:13\n",
      "   ------------------ --------------------- 93.6/204.1 MB 1.5 MB/s eta 0:01:12\n",
      "   ------------------ --------------------- 94.1/204.1 MB 1.5 MB/s eta 0:01:12\n",
      "   ------------------ --------------------- 94.6/204.1 MB 1.5 MB/s eta 0:01:11\n",
      "   ------------------ --------------------- 95.4/204.1 MB 1.6 MB/s eta 0:01:11\n",
      "   ------------------ --------------------- 95.9/204.1 MB 1.6 MB/s eta 0:01:10\n",
      "   ------------------ --------------------- 96.5/204.1 MB 1.6 MB/s eta 0:01:09\n",
      "   ------------------ --------------------- 96.7/204.1 MB 1.6 MB/s eta 0:01:09\n",
      "   ------------------- -------------------- 97.0/204.1 MB 1.6 MB/s eta 0:01:08\n",
      "   ------------------- -------------------- 97.3/204.1 MB 1.6 MB/s eta 0:01:08\n",
      "   ------------------- -------------------- 97.5/204.1 MB 1.6 MB/s eta 0:01:08\n",
      "   ------------------- -------------------- 97.8/204.1 MB 1.6 MB/s eta 0:01:07\n",
      "   ------------------- -------------------- 98.3/204.1 MB 1.6 MB/s eta 0:01:07\n",
      "   ------------------- -------------------- 98.6/204.1 MB 1.6 MB/s eta 0:01:06\n",
      "   ------------------- -------------------- 98.8/204.1 MB 1.6 MB/s eta 0:01:06\n",
      "   ------------------- -------------------- 99.4/204.1 MB 1.6 MB/s eta 0:01:06\n",
      "   ------------------- -------------------- 99.6/204.1 MB 1.6 MB/s eta 0:01:05\n",
      "   ------------------- -------------------- 100.1/204.1 MB 1.6 MB/s eta 0:01:05\n",
      "   ------------------- -------------------- 100.7/204.1 MB 1.6 MB/s eta 0:01:04\n",
      "   ------------------- -------------------- 100.9/204.1 MB 1.6 MB/s eta 0:01:04\n",
      "   ------------------- -------------------- 101.4/204.1 MB 1.6 MB/s eta 0:01:03\n",
      "   ------------------- -------------------- 102.0/204.1 MB 1.6 MB/s eta 0:01:03\n",
      "   -------------------- ------------------- 102.5/204.1 MB 1.6 MB/s eta 0:01:02\n",
      "   -------------------- ------------------- 103.0/204.1 MB 1.6 MB/s eta 0:01:02\n",
      "   -------------------- ------------------- 103.5/204.1 MB 1.6 MB/s eta 0:01:01\n",
      "   -------------------- ------------------- 104.1/204.1 MB 1.7 MB/s eta 0:01:01\n",
      "   -------------------- ------------------- 104.9/204.1 MB 1.7 MB/s eta 0:01:00\n",
      "   -------------------- ------------------- 105.4/204.1 MB 1.7 MB/s eta 0:01:00\n",
      "   -------------------- ------------------- 106.2/204.1 MB 1.7 MB/s eta 0:00:59\n",
      "   -------------------- ------------------- 106.4/204.1 MB 1.7 MB/s eta 0:00:59\n",
      "   -------------------- ------------------- 107.0/204.1 MB 1.7 MB/s eta 0:00:58\n",
      "   --------------------- ------------------ 107.2/204.1 MB 1.7 MB/s eta 0:00:58\n",
      "   --------------------- ------------------ 107.5/204.1 MB 1.7 MB/s eta 0:00:58\n",
      "   --------------------- ------------------ 107.7/204.1 MB 1.7 MB/s eta 0:00:58\n",
      "   --------------------- ------------------ 108.0/204.1 MB 1.7 MB/s eta 0:00:57\n",
      "   --------------------- ------------------ 108.5/204.1 MB 1.7 MB/s eta 0:00:57\n",
      "   --------------------- ------------------ 108.8/204.1 MB 1.7 MB/s eta 0:00:57\n",
      "   --------------------- ------------------ 109.3/204.1 MB 1.7 MB/s eta 0:00:56\n",
      "   --------------------- ------------------ 109.6/204.1 MB 1.7 MB/s eta 0:00:56\n",
      "   --------------------- ------------------ 109.8/204.1 MB 1.7 MB/s eta 0:00:56\n",
      "   --------------------- ------------------ 110.4/204.1 MB 1.7 MB/s eta 0:00:56\n",
      "   --------------------- ------------------ 110.9/204.1 MB 1.7 MB/s eta 0:00:55\n",
      "   --------------------- ------------------ 111.1/204.1 MB 1.7 MB/s eta 0:00:55\n",
      "   --------------------- ------------------ 111.7/204.1 MB 1.7 MB/s eta 0:00:55\n",
      "   --------------------- ------------------ 112.2/204.1 MB 1.7 MB/s eta 0:00:54\n",
      "   ---------------------- ----------------- 112.7/204.1 MB 1.7 MB/s eta 0:00:54\n",
      "   ---------------------- ----------------- 113.5/204.1 MB 1.7 MB/s eta 0:00:54\n",
      "   ---------------------- ----------------- 114.0/204.1 MB 1.7 MB/s eta 0:00:53\n",
      "   ---------------------- ----------------- 114.6/204.1 MB 1.7 MB/s eta 0:00:53\n",
      "   ---------------------- ----------------- 115.1/204.1 MB 1.7 MB/s eta 0:00:53\n",
      "   ---------------------- ----------------- 115.9/204.1 MB 1.7 MB/s eta 0:00:52\n",
      "   ---------------------- ----------------- 116.4/204.1 MB 1.7 MB/s eta 0:00:52\n",
      "   ---------------------- ----------------- 116.9/204.1 MB 1.7 MB/s eta 0:00:51\n",
      "   ----------------------- ---------------- 117.4/204.1 MB 1.7 MB/s eta 0:00:51\n",
      "   ----------------------- ---------------- 117.7/204.1 MB 1.7 MB/s eta 0:00:50\n",
      "   ----------------------- ---------------- 118.0/204.1 MB 1.7 MB/s eta 0:00:51\n",
      "   ----------------------- ---------------- 118.2/204.1 MB 1.7 MB/s eta 0:00:50\n",
      "   ----------------------- ---------------- 118.8/204.1 MB 1.7 MB/s eta 0:00:49\n",
      "   ----------------------- ---------------- 119.0/204.1 MB 1.7 MB/s eta 0:00:49\n",
      "   ----------------------- ---------------- 119.5/204.1 MB 1.8 MB/s eta 0:00:49\n",
      "   ----------------------- ---------------- 120.1/204.1 MB 1.8 MB/s eta 0:00:48\n",
      "   ----------------------- ---------------- 120.3/204.1 MB 1.8 MB/s eta 0:00:48\n",
      "   ----------------------- ---------------- 120.8/204.1 MB 1.8 MB/s eta 0:00:47\n",
      "   ----------------------- ---------------- 121.4/204.1 MB 1.8 MB/s eta 0:00:47\n",
      "   ----------------------- ---------------- 121.9/204.1 MB 1.8 MB/s eta 0:00:46\n",
      "   ------------------------ --------------- 122.7/204.1 MB 1.8 MB/s eta 0:00:46\n",
      "   ------------------------ --------------- 123.2/204.1 MB 1.8 MB/s eta 0:00:45\n",
      "   ------------------------ --------------- 123.7/204.1 MB 1.8 MB/s eta 0:00:45\n",
      "   ------------------------ --------------- 124.0/204.1 MB 1.8 MB/s eta 0:00:45\n",
      "   ------------------------ --------------- 124.5/204.1 MB 1.8 MB/s eta 0:00:44\n",
      "   ------------------------ --------------- 125.0/204.1 MB 1.8 MB/s eta 0:00:44\n",
      "   ------------------------ --------------- 125.6/204.1 MB 1.8 MB/s eta 0:00:43\n",
      "   ------------------------ --------------- 126.1/204.1 MB 1.8 MB/s eta 0:00:43\n",
      "   ------------------------ --------------- 126.6/204.1 MB 1.8 MB/s eta 0:00:43\n",
      "   ------------------------ --------------- 127.1/204.1 MB 1.8 MB/s eta 0:00:42\n",
      "   ------------------------- -------------- 127.9/204.1 MB 1.8 MB/s eta 0:00:42\n",
      "   ------------------------- -------------- 128.2/204.1 MB 1.8 MB/s eta 0:00:42\n",
      "   ------------------------- -------------- 128.7/204.1 MB 1.8 MB/s eta 0:00:42\n",
      "   ------------------------- -------------- 129.0/204.1 MB 1.8 MB/s eta 0:00:41\n",
      "   ------------------------- -------------- 129.2/204.1 MB 1.8 MB/s eta 0:00:41\n",
      "   ------------------------- -------------- 129.2/204.1 MB 1.8 MB/s eta 0:00:41\n",
      "   ------------------------- -------------- 129.5/204.1 MB 1.8 MB/s eta 0:00:41\n",
      "   ------------------------- -------------- 129.8/204.1 MB 1.8 MB/s eta 0:00:41\n",
      "   ------------------------- -------------- 130.0/204.1 MB 1.8 MB/s eta 0:00:41\n",
      "   ------------------------- -------------- 130.3/204.1 MB 1.8 MB/s eta 0:00:40\n",
      "   ------------------------- -------------- 130.5/204.1 MB 1.8 MB/s eta 0:00:40\n",
      "   ------------------------- -------------- 130.8/204.1 MB 1.8 MB/s eta 0:00:40\n",
      "   ------------------------- -------------- 131.1/204.1 MB 1.8 MB/s eta 0:00:40\n",
      "   ------------------------- -------------- 131.3/204.1 MB 1.8 MB/s eta 0:00:40\n",
      "   ------------------------- -------------- 131.9/204.1 MB 1.8 MB/s eta 0:00:40\n",
      "   ------------------------- -------------- 132.1/204.1 MB 1.9 MB/s eta 0:00:39\n",
      "   ------------------------- -------------- 132.6/204.1 MB 1.9 MB/s eta 0:00:39\n",
      "   -------------------------- ------------- 133.2/204.1 MB 1.9 MB/s eta 0:00:39\n",
      "   -------------------------- ------------- 133.4/204.1 MB 1.9 MB/s eta 0:00:38\n",
      "   -------------------------- ------------- 134.0/204.1 MB 1.9 MB/s eta 0:00:38\n",
      "   -------------------------- ------------- 134.5/204.1 MB 1.9 MB/s eta 0:00:38\n",
      "   -------------------------- ------------- 135.0/204.1 MB 1.9 MB/s eta 0:00:37\n",
      "   -------------------------- ------------- 135.5/204.1 MB 1.9 MB/s eta 0:00:37\n",
      "   -------------------------- ------------- 136.1/204.1 MB 1.9 MB/s eta 0:00:37\n",
      "   -------------------------- ------------- 136.6/204.1 MB 1.9 MB/s eta 0:00:36\n",
      "   -------------------------- ------------- 136.8/204.1 MB 1.9 MB/s eta 0:00:36\n",
      "   -------------------------- ------------- 137.4/204.1 MB 1.9 MB/s eta 0:00:36\n",
      "   -------------------------- ------------- 137.6/204.1 MB 1.9 MB/s eta 0:00:35\n",
      "   --------------------------- ------------ 138.1/204.1 MB 1.9 MB/s eta 0:00:35\n",
      "   --------------------------- ------------ 138.7/204.1 MB 1.9 MB/s eta 0:00:35\n",
      "   --------------------------- ------------ 139.2/204.1 MB 1.9 MB/s eta 0:00:34\n",
      "   --------------------------- ------------ 139.7/204.1 MB 1.9 MB/s eta 0:00:34\n",
      "   --------------------------- ------------ 140.2/204.1 MB 2.0 MB/s eta 0:00:33\n",
      "   --------------------------- ------------ 140.8/204.1 MB 2.0 MB/s eta 0:00:33\n",
      "   --------------------------- ------------ 141.3/204.1 MB 2.0 MB/s eta 0:00:32\n",
      "   --------------------------- ------------ 141.8/204.1 MB 2.0 MB/s eta 0:00:32\n",
      "   --------------------------- ------------ 142.3/204.1 MB 2.0 MB/s eta 0:00:31\n",
      "   ---------------------------- ----------- 143.1/204.1 MB 2.0 MB/s eta 0:00:31\n",
      "   ---------------------------- ----------- 143.7/204.1 MB 2.0 MB/s eta 0:00:30\n",
      "   ---------------------------- ----------- 144.4/204.1 MB 2.0 MB/s eta 0:00:30\n",
      "   ---------------------------- ----------- 145.2/204.1 MB 2.0 MB/s eta 0:00:29\n",
      "   ---------------------------- ----------- 145.8/204.1 MB 2.1 MB/s eta 0:00:29\n",
      "   ---------------------------- ----------- 146.0/204.1 MB 2.1 MB/s eta 0:00:29\n",
      "   ---------------------------- ----------- 146.5/204.1 MB 2.1 MB/s eta 0:00:28\n",
      "   ---------------------------- ----------- 147.1/204.1 MB 2.1 MB/s eta 0:00:28\n",
      "   ---------------------------- ----------- 147.3/204.1 MB 2.1 MB/s eta 0:00:28\n",
      "   ---------------------------- ----------- 147.6/204.1 MB 2.1 MB/s eta 0:00:28\n",
      "   ---------------------------- ----------- 147.8/204.1 MB 2.1 MB/s eta 0:00:28\n",
      "   ----------------------------- ---------- 148.1/204.1 MB 2.1 MB/s eta 0:00:28\n",
      "   ----------------------------- ---------- 148.4/204.1 MB 2.1 MB/s eta 0:00:27\n",
      "   ----------------------------- ---------- 148.6/204.1 MB 2.1 MB/s eta 0:00:27\n",
      "   ----------------------------- ---------- 148.9/204.1 MB 2.1 MB/s eta 0:00:27\n",
      "   ----------------------------- ---------- 148.9/204.1 MB 2.1 MB/s eta 0:00:27\n",
      "   ----------------------------- ---------- 149.2/204.1 MB 2.1 MB/s eta 0:00:27\n",
      "   ----------------------------- ---------- 149.4/204.1 MB 2.1 MB/s eta 0:00:27\n",
      "   ----------------------------- ---------- 149.4/204.1 MB 2.1 MB/s eta 0:00:27\n",
      "   ----------------------------- ---------- 149.7/204.1 MB 2.1 MB/s eta 0:00:27\n",
      "   ----------------------------- ---------- 149.9/204.1 MB 2.1 MB/s eta 0:00:27\n",
      "   ----------------------------- ---------- 150.2/204.1 MB 2.0 MB/s eta 0:00:27\n",
      "   ----------------------------- ---------- 150.5/204.1 MB 2.0 MB/s eta 0:00:27\n",
      "   ----------------------------- ---------- 150.7/204.1 MB 2.0 MB/s eta 0:00:27\n",
      "   ----------------------------- ---------- 151.0/204.1 MB 2.0 MB/s eta 0:00:27\n",
      "   ----------------------------- ---------- 151.0/204.1 MB 2.0 MB/s eta 0:00:27\n",
      "   ----------------------------- ---------- 151.3/204.1 MB 2.0 MB/s eta 0:00:27\n",
      "   ----------------------------- ---------- 151.5/204.1 MB 2.0 MB/s eta 0:00:27\n",
      "   ----------------------------- ---------- 151.8/204.1 MB 2.0 MB/s eta 0:00:27\n",
      "   ----------------------------- ---------- 152.3/204.1 MB 2.0 MB/s eta 0:00:27\n",
      "   ----------------------------- ---------- 152.6/204.1 MB 2.0 MB/s eta 0:00:26\n",
      "   ----------------------------- ---------- 152.8/204.1 MB 2.0 MB/s eta 0:00:26\n",
      "   ------------------------------ --------- 153.4/204.1 MB 2.0 MB/s eta 0:00:26\n",
      "   ------------------------------ --------- 153.6/204.1 MB 2.0 MB/s eta 0:00:26\n",
      "   ------------------------------ --------- 154.1/204.1 MB 2.0 MB/s eta 0:00:26\n",
      "   ------------------------------ --------- 154.4/204.1 MB 1.9 MB/s eta 0:00:26\n",
      "   ------------------------------ --------- 154.7/204.1 MB 1.9 MB/s eta 0:00:26\n",
      "   ------------------------------ --------- 154.9/204.1 MB 1.9 MB/s eta 0:00:26\n",
      "   ------------------------------ --------- 154.9/204.1 MB 1.9 MB/s eta 0:00:26\n",
      "   ------------------------------ --------- 155.2/204.1 MB 1.9 MB/s eta 0:00:26\n",
      "   ------------------------------ --------- 155.5/204.1 MB 1.9 MB/s eta 0:00:26\n",
      "   ------------------------------ --------- 155.7/204.1 MB 1.9 MB/s eta 0:00:26\n",
      "   ------------------------------ --------- 156.0/204.1 MB 1.9 MB/s eta 0:00:25\n",
      "   ------------------------------ --------- 156.2/204.1 MB 1.9 MB/s eta 0:00:25\n",
      "   ------------------------------ --------- 156.5/204.1 MB 1.9 MB/s eta 0:00:25\n",
      "   ------------------------------ --------- 156.8/204.1 MB 1.9 MB/s eta 0:00:25\n",
      "   ------------------------------ --------- 157.3/204.1 MB 1.9 MB/s eta 0:00:25\n",
      "   ------------------------------ --------- 157.5/204.1 MB 1.9 MB/s eta 0:00:25\n",
      "   ------------------------------ --------- 158.1/204.1 MB 1.9 MB/s eta 0:00:25\n",
      "   ------------------------------- -------- 158.3/204.1 MB 1.9 MB/s eta 0:00:24\n",
      "   ------------------------------- -------- 158.9/204.1 MB 1.9 MB/s eta 0:00:24\n",
      "   ------------------------------- -------- 159.4/204.1 MB 1.9 MB/s eta 0:00:24\n",
      "   ------------------------------- -------- 159.6/204.1 MB 1.9 MB/s eta 0:00:24\n",
      "   ------------------------------- -------- 160.2/204.1 MB 1.9 MB/s eta 0:00:24\n",
      "   ------------------------------- -------- 160.7/204.1 MB 1.9 MB/s eta 0:00:23\n",
      "   ------------------------------- -------- 161.2/204.1 MB 1.9 MB/s eta 0:00:23\n",
      "   ------------------------------- -------- 161.7/204.1 MB 1.9 MB/s eta 0:00:23\n",
      "   ------------------------------- -------- 162.3/204.1 MB 1.9 MB/s eta 0:00:23\n",
      "   ------------------------------- -------- 162.8/204.1 MB 1.9 MB/s eta 0:00:22\n",
      "   -------------------------------- ------- 163.3/204.1 MB 1.9 MB/s eta 0:00:22\n",
      "   -------------------------------- ------- 163.8/204.1 MB 1.9 MB/s eta 0:00:22\n",
      "   -------------------------------- ------- 164.4/204.1 MB 1.9 MB/s eta 0:00:21\n",
      "   -------------------------------- ------- 164.9/204.1 MB 1.9 MB/s eta 0:00:21\n",
      "   -------------------------------- ------- 165.4/204.1 MB 1.9 MB/s eta 0:00:21\n",
      "   -------------------------------- ------- 165.9/204.1 MB 1.9 MB/s eta 0:00:20\n",
      "   -------------------------------- ------- 166.5/204.1 MB 1.9 MB/s eta 0:00:20\n",
      "   -------------------------------- ------- 167.2/204.1 MB 1.9 MB/s eta 0:00:19\n",
      "   -------------------------------- ------- 167.8/204.1 MB 2.0 MB/s eta 0:00:19\n",
      "   -------------------------------- ------- 168.3/204.1 MB 2.0 MB/s eta 0:00:19\n",
      "   --------------------------------- ------ 168.8/204.1 MB 2.0 MB/s eta 0:00:18\n",
      "   --------------------------------- ------ 169.3/204.1 MB 2.0 MB/s eta 0:00:18\n",
      "   --------------------------------- ------ 169.9/204.1 MB 2.0 MB/s eta 0:00:18\n",
      "   --------------------------------- ------ 170.1/204.1 MB 2.0 MB/s eta 0:00:18\n",
      "   --------------------------------- ------ 170.7/204.1 MB 2.0 MB/s eta 0:00:18\n",
      "   --------------------------------- ------ 171.2/204.1 MB 2.0 MB/s eta 0:00:17\n",
      "   --------------------------------- ------ 171.7/204.1 MB 2.0 MB/s eta 0:00:17\n",
      "   --------------------------------- ------ 172.2/204.1 MB 2.0 MB/s eta 0:00:17\n",
      "   --------------------------------- ------ 172.8/204.1 MB 2.0 MB/s eta 0:00:16\n",
      "   ---------------------------------- ----- 173.5/204.1 MB 2.0 MB/s eta 0:00:16\n",
      "   ---------------------------------- ----- 174.1/204.1 MB 2.0 MB/s eta 0:00:16\n",
      "   ---------------------------------- ----- 174.6/204.1 MB 2.0 MB/s eta 0:00:16\n",
      "   ---------------------------------- ----- 175.1/204.1 MB 2.0 MB/s eta 0:00:15\n",
      "   ---------------------------------- ----- 175.6/204.1 MB 2.0 MB/s eta 0:00:15\n",
      "   ---------------------------------- ----- 176.2/204.1 MB 2.0 MB/s eta 0:00:15\n",
      "   ---------------------------------- ----- 176.4/204.1 MB 2.0 MB/s eta 0:00:15\n",
      "   ---------------------------------- ----- 176.9/204.1 MB 2.0 MB/s eta 0:00:14\n",
      "   ---------------------------------- ----- 177.2/204.1 MB 2.0 MB/s eta 0:00:14\n",
      "   ---------------------------------- ----- 177.7/204.1 MB 2.0 MB/s eta 0:00:14\n",
      "   ---------------------------------- ----- 178.3/204.1 MB 2.0 MB/s eta 0:00:14\n",
      "   ---------------------------------- ----- 178.5/204.1 MB 2.0 MB/s eta 0:00:13\n",
      "   ----------------------------------- ---- 179.0/204.1 MB 2.0 MB/s eta 0:00:13\n",
      "   ----------------------------------- ---- 179.6/204.1 MB 2.0 MB/s eta 0:00:13\n",
      "   ----------------------------------- ---- 180.1/204.1 MB 2.0 MB/s eta 0:00:13\n",
      "   ----------------------------------- ---- 180.6/204.1 MB 2.0 MB/s eta 0:00:12\n",
      "   ----------------------------------- ---- 181.1/204.1 MB 2.0 MB/s eta 0:00:12\n",
      "   ----------------------------------- ---- 181.9/204.1 MB 2.0 MB/s eta 0:00:12\n",
      "   ----------------------------------- ---- 182.5/204.1 MB 2.0 MB/s eta 0:00:11\n",
      "   ----------------------------------- ---- 183.0/204.1 MB 2.0 MB/s eta 0:00:11\n",
      "   ------------------------------------ --- 183.8/204.1 MB 2.0 MB/s eta 0:00:11\n",
      "   ------------------------------------ --- 184.3/204.1 MB 2.0 MB/s eta 0:00:10\n",
      "   ------------------------------------ --- 185.1/204.1 MB 2.0 MB/s eta 0:00:10\n",
      "   ------------------------------------ --- 185.6/204.1 MB 2.0 MB/s eta 0:00:10\n",
      "   ------------------------------------ --- 186.4/204.1 MB 2.0 MB/s eta 0:00:09\n",
      "   ------------------------------------ --- 187.2/204.1 MB 2.0 MB/s eta 0:00:09\n",
      "   ------------------------------------ --- 188.0/204.1 MB 2.0 MB/s eta 0:00:08\n",
      "   ------------------------------------ --- 188.5/204.1 MB 2.0 MB/s eta 0:00:08\n",
      "   ------------------------------------- -- 189.3/204.1 MB 2.0 MB/s eta 0:00:08\n",
      "   ------------------------------------- -- 190.1/204.1 MB 2.1 MB/s eta 0:00:07\n",
      "   ------------------------------------- -- 190.6/204.1 MB 2.1 MB/s eta 0:00:07\n",
      "   ------------------------------------- -- 190.8/204.1 MB 2.1 MB/s eta 0:00:07\n",
      "   ------------------------------------- -- 191.1/204.1 MB 2.1 MB/s eta 0:00:07\n",
      "   ------------------------------------- -- 191.1/204.1 MB 2.1 MB/s eta 0:00:07\n",
      "   ------------------------------------- -- 191.4/204.1 MB 2.1 MB/s eta 0:00:07\n",
      "   ------------------------------------- -- 191.6/204.1 MB 2.1 MB/s eta 0:00:07\n",
      "   ------------------------------------- -- 191.9/204.1 MB 2.1 MB/s eta 0:00:06\n",
      "   ------------------------------------- -- 191.9/204.1 MB 2.1 MB/s eta 0:00:06\n",
      "   ------------------------------------- -- 192.2/204.1 MB 2.1 MB/s eta 0:00:06\n",
      "   ------------------------------------- -- 192.4/204.1 MB 2.1 MB/s eta 0:00:06\n",
      "   ------------------------------------- -- 192.7/204.1 MB 2.1 MB/s eta 0:00:06\n",
      "   ------------------------------------- -- 193.2/204.1 MB 2.1 MB/s eta 0:00:06\n",
      "   ------------------------------------- -- 193.5/204.1 MB 2.1 MB/s eta 0:00:06\n",
      "   ------------------------------------- -- 193.7/204.1 MB 2.1 MB/s eta 0:00:06\n",
      "   -------------------------------------- - 194.2/204.1 MB 2.1 MB/s eta 0:00:05\n",
      "   -------------------------------------- - 194.5/204.1 MB 2.0 MB/s eta 0:00:05\n",
      "   -------------------------------------- - 195.0/204.1 MB 2.0 MB/s eta 0:00:05\n",
      "   -------------------------------------- - 195.3/204.1 MB 2.0 MB/s eta 0:00:05\n",
      "   -------------------------------------- - 195.8/204.1 MB 2.0 MB/s eta 0:00:05\n",
      "   -------------------------------------- - 196.1/204.1 MB 2.0 MB/s eta 0:00:04\n",
      "   -------------------------------------- - 196.3/204.1 MB 2.0 MB/s eta 0:00:04\n",
      "   -------------------------------------- - 196.6/204.1 MB 2.0 MB/s eta 0:00:04\n",
      "   -------------------------------------- - 196.9/204.1 MB 2.0 MB/s eta 0:00:04\n",
      "   -------------------------------------- - 197.1/204.1 MB 2.0 MB/s eta 0:00:04\n",
      "   -------------------------------------- - 197.4/204.1 MB 2.0 MB/s eta 0:00:04\n",
      "   -------------------------------------- - 197.7/204.1 MB 2.0 MB/s eta 0:00:04\n",
      "   -------------------------------------- - 197.9/204.1 MB 2.0 MB/s eta 0:00:04\n",
      "   -------------------------------------- - 198.2/204.1 MB 2.0 MB/s eta 0:00:03\n",
      "   -------------------------------------- - 198.4/204.1 MB 2.0 MB/s eta 0:00:03\n",
      "   -------------------------------------- - 198.7/204.1 MB 2.0 MB/s eta 0:00:03\n",
      "   -------------------------------------- - 199.0/204.1 MB 2.0 MB/s eta 0:00:03\n",
      "   ---------------------------------------  199.2/204.1 MB 1.9 MB/s eta 0:00:03\n",
      "   ---------------------------------------  199.5/204.1 MB 1.9 MB/s eta 0:00:03\n",
      "   ---------------------------------------  199.8/204.1 MB 1.9 MB/s eta 0:00:03\n",
      "   ---------------------------------------  200.0/204.1 MB 1.9 MB/s eta 0:00:03\n",
      "   ---------------------------------------  200.3/204.1 MB 1.9 MB/s eta 0:00:03\n",
      "   ---------------------------------------  200.8/204.1 MB 1.9 MB/s eta 0:00:02\n",
      "   ---------------------------------------  201.1/204.1 MB 1.9 MB/s eta 0:00:02\n",
      "   ---------------------------------------  201.6/204.1 MB 1.9 MB/s eta 0:00:02\n",
      "   ---------------------------------------  201.9/204.1 MB 1.9 MB/s eta 0:00:02\n",
      "   ---------------------------------------  202.4/204.1 MB 1.9 MB/s eta 0:00:01\n",
      "   ---------------------------------------  202.6/204.1 MB 1.9 MB/s eta 0:00:01\n",
      "   ---------------------------------------  202.9/204.1 MB 1.9 MB/s eta 0:00:01\n",
      "   ---------------------------------------  203.4/204.1 MB 1.9 MB/s eta 0:00:01\n",
      "   ---------------------------------------  203.7/204.1 MB 1.9 MB/s eta 0:00:01\n",
      "   ---------------------------------------  203.9/204.1 MB 1.9 MB/s eta 0:00:01\n",
      "   ---------------------------------------  203.9/204.1 MB 1.9 MB/s eta 0:00:01\n",
      "   ---------------------------------------  203.9/204.1 MB 1.9 MB/s eta 0:00:01\n",
      "   ---------------------------------------  203.9/204.1 MB 1.9 MB/s eta 0:00:01\n",
      "   ---------------------------------------  203.9/204.1 MB 1.9 MB/s eta 0:00:01\n",
      "   ---------------------------------------  203.9/204.1 MB 1.9 MB/s eta 0:00:01\n",
      "   ---------------------------------------  203.9/204.1 MB 1.9 MB/s eta 0:00:01\n",
      "   ---------------------------------------- 204.1/204.1 MB 1.8 MB/s eta 0:00:00\n",
      "Using cached sympy-1.13.1-py3-none-any.whl (6.2 MB)\n",
      "Downloading torchvision-0.21.0-cp312-cp312-win_amd64.whl (1.6 MB)\n",
      "   ---------------------------------------- 0.0/1.6 MB ? eta -:--:--\n",
      "   ------ --------------------------------- 0.3/1.6 MB ? eta -:--:--\n",
      "   -------------------- ------------------- 0.8/1.6 MB 2.0 MB/s eta 0:00:01\n",
      "   -------------------------- ------------- 1.0/1.6 MB 2.0 MB/s eta 0:00:01\n",
      "   ---------------------------------------- 1.6/1.6 MB 2.0 MB/s eta 0:00:00\n",
      "Downloading torchaudio-2.6.0-cp312-cp312-win_amd64.whl (2.4 MB)\n",
      "   ---------------------------------------- 0.0/2.4 MB ? eta -:--:--\n",
      "   ---- ----------------------------------- 0.3/2.4 MB ? eta -:--:--\n",
      "   ------------ --------------------------- 0.8/2.4 MB 2.4 MB/s eta 0:00:01\n",
      "   --------------------- ------------------ 1.3/2.4 MB 2.4 MB/s eta 0:00:01\n",
      "   ---------------------------------- ----- 2.1/2.4 MB 2.5 MB/s eta 0:00:01\n",
      "   ---------------------------------------- 2.4/2.4 MB 2.4 MB/s eta 0:00:00\n",
      "Installing collected packages: sympy, torch, torchvision, torchaudio\n",
      "  Attempting uninstall: sympy\n",
      "    Found existing installation: sympy 1.13.2\n",
      "    Uninstalling sympy-1.13.2:\n",
      "      Successfully uninstalled sympy-1.13.2\n",
      "Successfully installed sympy-1.13.1 torch-2.6.0 torchaudio-2.6.0 torchvision-0.21.0\n"
     ]
    }
   ],
   "source": [
    "!pip install torch torchvision torchaudio"
   ]
  },
  {
   "cell_type": "code",
   "execution_count": 5,
   "id": "0a1c89c0-def6-4ad5-8404-949e1b11682a",
   "metadata": {},
   "outputs": [
    {
     "name": "stderr",
     "output_type": "stream",
     "text": [
      "None of PyTorch, TensorFlow >= 2.0, or Flax have been found. Models won't be available and only tokenizers, configuration and file/data utilities can be used.\n",
      "None of PyTorch, TensorFlow >= 2.0, or Flax have been found. Models won't be available and only tokenizers, configuration and file/data utilities can be used.\n"
     ]
    },
    {
     "data": {
      "application/vnd.jupyter.widget-view+json": {
       "model_id": "be20eb6fbb13468e87863188e195b902",
       "version_major": 2,
       "version_minor": 0
      },
      "text/plain": [
       "config.json:   0%|          | 0.00/825 [00:00<?, ?B/s]"
      ]
     },
     "metadata": {},
     "output_type": "display_data"
    },
    {
     "ename": "RuntimeError",
     "evalue": "At least one of TensorFlow 2.0 or PyTorch should be installed. To install TensorFlow 2.0, read the instructions at https://www.tensorflow.org/install/ To install PyTorch, read the instructions at https://pytorch.org/.",
     "output_type": "error",
     "traceback": [
      "\u001b[1;31m---------------------------------------------------------------------------\u001b[0m",
      "\u001b[1;31mRuntimeError\u001b[0m                              Traceback (most recent call last)",
      "Cell \u001b[1;32mIn[5], line 2\u001b[0m\n\u001b[0;32m      1\u001b[0m \u001b[38;5;28;01mfrom\u001b[39;00m \u001b[38;5;21;01mtransformers\u001b[39;00m \u001b[38;5;28;01mimport\u001b[39;00m pipeline\n\u001b[1;32m----> 2\u001b[0m pipe_my \u001b[38;5;241m=\u001b[39m pipeline(\u001b[38;5;124m\"\u001b[39m\u001b[38;5;124mimage-classification\u001b[39m\u001b[38;5;124m\"\u001b[39m, model\u001b[38;5;241m=\u001b[39m\u001b[38;5;124m\"\u001b[39m\u001b[38;5;124mnayast/plant_disease_classification\u001b[39m\u001b[38;5;124m\"\u001b[39m)\n\u001b[0;32m      3\u001b[0m res \u001b[38;5;241m=\u001b[39m pipe_my(inputs \u001b[38;5;241m=\u001b[39m [\u001b[38;5;124m\"\u001b[39m\u001b[38;5;124m./pics/12.jpg\u001b[39m\u001b[38;5;124m\"\u001b[39m])\n\u001b[0;32m      4\u001b[0m \u001b[38;5;28mprint\u001b[39m(res)\n",
      "File \u001b[1;32m~\\anaconda3\\Lib\\site-packages\\transformers\\pipelines\\__init__.py:940\u001b[0m, in \u001b[0;36mpipeline\u001b[1;34m(task, model, config, tokenizer, feature_extractor, image_processor, processor, framework, revision, use_fast, token, device, device_map, torch_dtype, trust_remote_code, model_kwargs, pipeline_class, **kwargs)\u001b[0m\n\u001b[0;32m    938\u001b[0m \u001b[38;5;28;01mif\u001b[39;00m \u001b[38;5;28misinstance\u001b[39m(model, \u001b[38;5;28mstr\u001b[39m) \u001b[38;5;129;01mor\u001b[39;00m framework \u001b[38;5;129;01mis\u001b[39;00m \u001b[38;5;28;01mNone\u001b[39;00m:\n\u001b[0;32m    939\u001b[0m     model_classes \u001b[38;5;241m=\u001b[39m {\u001b[38;5;124m\"\u001b[39m\u001b[38;5;124mtf\u001b[39m\u001b[38;5;124m\"\u001b[39m: targeted_task[\u001b[38;5;124m\"\u001b[39m\u001b[38;5;124mtf\u001b[39m\u001b[38;5;124m\"\u001b[39m], \u001b[38;5;124m\"\u001b[39m\u001b[38;5;124mpt\u001b[39m\u001b[38;5;124m\"\u001b[39m: targeted_task[\u001b[38;5;124m\"\u001b[39m\u001b[38;5;124mpt\u001b[39m\u001b[38;5;124m\"\u001b[39m]}\n\u001b[1;32m--> 940\u001b[0m     framework, model \u001b[38;5;241m=\u001b[39m infer_framework_load_model(\n\u001b[0;32m    941\u001b[0m         model,\n\u001b[0;32m    942\u001b[0m         model_classes\u001b[38;5;241m=\u001b[39mmodel_classes,\n\u001b[0;32m    943\u001b[0m         config\u001b[38;5;241m=\u001b[39mconfig,\n\u001b[0;32m    944\u001b[0m         framework\u001b[38;5;241m=\u001b[39mframework,\n\u001b[0;32m    945\u001b[0m         task\u001b[38;5;241m=\u001b[39mtask,\n\u001b[0;32m    946\u001b[0m         \u001b[38;5;241m*\u001b[39m\u001b[38;5;241m*\u001b[39mhub_kwargs,\n\u001b[0;32m    947\u001b[0m         \u001b[38;5;241m*\u001b[39m\u001b[38;5;241m*\u001b[39mmodel_kwargs,\n\u001b[0;32m    948\u001b[0m     )\n\u001b[0;32m    950\u001b[0m model_config \u001b[38;5;241m=\u001b[39m model\u001b[38;5;241m.\u001b[39mconfig\n\u001b[0;32m    951\u001b[0m hub_kwargs[\u001b[38;5;124m\"\u001b[39m\u001b[38;5;124m_commit_hash\u001b[39m\u001b[38;5;124m\"\u001b[39m] \u001b[38;5;241m=\u001b[39m model\u001b[38;5;241m.\u001b[39mconfig\u001b[38;5;241m.\u001b[39m_commit_hash\n",
      "File \u001b[1;32m~\\anaconda3\\Lib\\site-packages\\transformers\\pipelines\\base.py:241\u001b[0m, in \u001b[0;36minfer_framework_load_model\u001b[1;34m(model, config, model_classes, task, framework, **model_kwargs)\u001b[0m\n\u001b[0;32m    215\u001b[0m \u001b[38;5;250m\u001b[39m\u001b[38;5;124;03m\"\"\"\u001b[39;00m\n\u001b[0;32m    216\u001b[0m \u001b[38;5;124;03mSelect framework (TensorFlow or PyTorch) to use from the `model` passed. Returns a tuple (framework, model).\u001b[39;00m\n\u001b[0;32m    217\u001b[0m \n\u001b[1;32m   (...)\u001b[0m\n\u001b[0;32m    238\u001b[0m \u001b[38;5;124;03m    `Tuple`: A tuple framework, model.\u001b[39;00m\n\u001b[0;32m    239\u001b[0m \u001b[38;5;124;03m\"\"\"\u001b[39;00m\n\u001b[0;32m    240\u001b[0m \u001b[38;5;28;01mif\u001b[39;00m \u001b[38;5;129;01mnot\u001b[39;00m is_tf_available() \u001b[38;5;129;01mand\u001b[39;00m \u001b[38;5;129;01mnot\u001b[39;00m is_torch_available():\n\u001b[1;32m--> 241\u001b[0m     \u001b[38;5;28;01mraise\u001b[39;00m \u001b[38;5;167;01mRuntimeError\u001b[39;00m(\n\u001b[0;32m    242\u001b[0m         \u001b[38;5;124m\"\u001b[39m\u001b[38;5;124mAt least one of TensorFlow 2.0 or PyTorch should be installed. \u001b[39m\u001b[38;5;124m\"\u001b[39m\n\u001b[0;32m    243\u001b[0m         \u001b[38;5;124m\"\u001b[39m\u001b[38;5;124mTo install TensorFlow 2.0, read the instructions at https://www.tensorflow.org/install/ \u001b[39m\u001b[38;5;124m\"\u001b[39m\n\u001b[0;32m    244\u001b[0m         \u001b[38;5;124m\"\u001b[39m\u001b[38;5;124mTo install PyTorch, read the instructions at https://pytorch.org/.\u001b[39m\u001b[38;5;124m\"\u001b[39m\n\u001b[0;32m    245\u001b[0m     )\n\u001b[0;32m    246\u001b[0m \u001b[38;5;28;01mif\u001b[39;00m \u001b[38;5;28misinstance\u001b[39m(model, \u001b[38;5;28mstr\u001b[39m):\n\u001b[0;32m    247\u001b[0m     model_kwargs[\u001b[38;5;124m\"\u001b[39m\u001b[38;5;124m_from_pipeline\u001b[39m\u001b[38;5;124m\"\u001b[39m] \u001b[38;5;241m=\u001b[39m task\n",
      "\u001b[1;31mRuntimeError\u001b[0m: At least one of TensorFlow 2.0 or PyTorch should be installed. To install TensorFlow 2.0, read the instructions at https://www.tensorflow.org/install/ To install PyTorch, read the instructions at https://pytorch.org/."
     ]
    }
   ],
   "source": [
    "from transformers import pipeline\n",
    "pipe_my = pipeline(\"image-classification\", model=\"nayast/plant_disease_classification\")\n",
    "res = pipe_my(inputs = [\"./pics/12.jpg\"])\n",
    "print(res)"
   ]
  },
  {
   "cell_type": "code",
   "execution_count": null,
   "id": "47795076-6671-43dd-ad7b-83bf7163e05e",
   "metadata": {},
   "outputs": [],
   "source": []
  }
 ],
 "metadata": {
  "kernelspec": {
   "display_name": "Python [conda env:base] *",
   "language": "python",
   "name": "conda-base-py"
  },
  "language_info": {
   "codemirror_mode": {
    "name": "ipython",
    "version": 3
   },
   "file_extension": ".py",
   "mimetype": "text/x-python",
   "name": "python",
   "nbconvert_exporter": "python",
   "pygments_lexer": "ipython3",
   "version": "3.12.7"
  }
 },
 "nbformat": 4,
 "nbformat_minor": 5
}
