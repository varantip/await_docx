{
 "cells": [
  {
   "cell_type": "code",
   "execution_count": 4,
   "id": "f599684e-cc8c-4628-b416-9ef044f04ac9",
   "metadata": {},
   "outputs": [
    {
     "name": "stderr",
     "output_type": "stream",
     "text": [
      "C:\\Users\\Naya\\AppData\\Local\\Programs\\Python\\Python310\\lib\\site-packages\\tqdm\\auto.py:21: TqdmWarning: IProgress not found. Please update jupyter and ipywidgets. See https://ipywidgets.readthedocs.io/en/stable/user_install.html\n",
      "  from .autonotebook import tqdm as notebook_tqdm\n"
     ]
    },
    {
     "name": "stdout",
     "output_type": "stream",
     "text": [
      "WARNING:tensorflow:From C:\\Users\\Naya\\AppData\\Local\\Programs\\Python\\Python310\\lib\\site-packages\\tf_keras\\src\\losses.py:2976: The name tf.losses.sparse_softmax_cross_entropy is deprecated. Please use tf.compat.v1.losses.sparse_softmax_cross_entropy instead.\n",
      "\n"
     ]
    }
   ],
   "source": [
    "from datasets import load_dataset\n",
    "from transformers import AutoImageProcessor, AutoModelForImageClassification, TrainingArguments, Trainer, ViTImageProcessor\n",
    "\n",
    "# Step 1: Load the dataset\n",
    "dataset = load_dataset(\"cqin/three_phase-plant_health\")  # Example dataset\n"
   ]
  },
  {
   "cell_type": "code",
   "execution_count": 6,
   "id": "0897c72a-2b87-4303-80a3-ddece4df92e0",
   "metadata": {},
   "outputs": [],
   "source": [
    "from transformers import AutoImageProcessor, AutoModelForImageClassification, TrainingArguments, Trainer, ViTImageProcessor\n"
   ]
  },
  {
   "cell_type": "code",
   "execution_count": 7,
   "id": "18998daf-2f89-44fd-bf8b-22143a888fd1",
   "metadata": {},
   "outputs": [],
   "source": [
    "# Step 2: Load the processor and model\n",
    "model_name = \"swueste/plant-health-image-classifier\"\n",
    "processor = ViTImageProcessor.from_pretrained(model_name)\n",
    "model = AutoModelForImageClassification.from_pretrained(model_name, num_labels=3)"
   ]
  },
  {
   "cell_type": "code",
   "execution_count": 8,
   "id": "dc07ec73-e722-444d-9078-280315f4ec48",
   "metadata": {},
   "outputs": [],
   "source": [
    "dataset = dataset['train'].train_test_split(test_size=0.3, seed=42)"
   ]
  },
  {
   "cell_type": "code",
   "execution_count": 9,
   "id": "58d1c10f-b635-45b1-8a41-aab85162bfee",
   "metadata": {},
   "outputs": [],
   "source": [
    "def transform(example_batch):\n",
    "    # Take a list of PIL images and turn them to pixel values\n",
    "    inputs = processor([x for x in example_batch['image']], return_tensors='pt')\n",
    "\n",
    "    inputs['label'] = example_batch['label']\n",
    "    return inputs"
   ]
  },
  {
   "cell_type": "code",
   "execution_count": 10,
   "id": "5273a94e-7955-46ef-a8df-344bd48649ed",
   "metadata": {},
   "outputs": [],
   "source": [
    "prepared_ds = dataset.with_transform(transform)"
   ]
  },
  {
   "cell_type": "code",
   "execution_count": 11,
   "id": "905c49a1-3db1-4b6e-b19d-06ab54d4853a",
   "metadata": {},
   "outputs": [],
   "source": [
    "import torch\n",
    "\n",
    "def collate_fn(batch):\n",
    "    return {\n",
    "        'pixel_values': torch.stack([x['pixel_values'] for x in batch]),\n",
    "        'labels': torch.tensor([x['label'] for x in batch])\n",
    "    }"
   ]
  },
  {
   "cell_type": "code",
   "execution_count": 12,
   "id": "2c7f0f49-1367-42d6-9f67-893eb163b677",
   "metadata": {
    "collapsed": true,
    "jupyter": {
     "outputs_hidden": true
    },
    "scrolled": true
   },
   "outputs": [
    {
     "name": "stdout",
     "output_type": "stream",
     "text": [
      "Requirement already satisfied: evaluate in c:\\users\\naya\\appdata\\local\\programs\\python\\python310\\lib\\site-packages (0.4.3)\n",
      "Requirement already satisfied: multiprocess in c:\\users\\naya\\appdata\\local\\programs\\python\\python310\\lib\\site-packages (from evaluate) (0.70.16)\n",
      "Requirement already satisfied: xxhash in c:\\users\\naya\\appdata\\local\\programs\\python\\python310\\lib\\site-packages (from evaluate) (3.5.0)\n",
      "Requirement already satisfied: packaging in c:\\users\\naya\\appdata\\local\\programs\\python\\python310\\lib\\site-packages (from evaluate) (24.2)\n",
      "Requirement already satisfied: dill in c:\\users\\naya\\appdata\\local\\programs\\python\\python310\\lib\\site-packages (from evaluate) (0.3.8)\n",
      "Requirement already satisfied: datasets>=2.0.0 in c:\\users\\naya\\appdata\\local\\programs\\python\\python310\\lib\\site-packages (from evaluate) (3.3.0)\n",
      "Requirement already satisfied: fsspec[http]>=2021.05.0 in c:\\users\\naya\\appdata\\local\\programs\\python\\python310\\lib\\site-packages (from evaluate) (2024.12.0)\n",
      "Requirement already satisfied: requests>=2.19.0 in c:\\users\\naya\\appdata\\local\\programs\\python\\python310\\lib\\site-packages (from evaluate) (2.32.3)\n",
      "Requirement already satisfied: numpy>=1.17 in c:\\users\\naya\\appdata\\local\\programs\\python\\python310\\lib\\site-packages (from evaluate) (2.0.2)\n",
      "Requirement already satisfied: tqdm>=4.62.1 in c:\\users\\naya\\appdata\\local\\programs\\python\\python310\\lib\\site-packages (from evaluate) (4.67.1)\n",
      "Requirement already satisfied: pandas in c:\\users\\naya\\appdata\\local\\programs\\python\\python310\\lib\\site-packages (from evaluate) (2.2.3)\n",
      "Requirement already satisfied: huggingface-hub>=0.7.0 in c:\\users\\naya\\appdata\\local\\programs\\python\\python310\\lib\\site-packages (from evaluate) (0.28.1)\n",
      "Requirement already satisfied: pyarrow>=15.0.0 in c:\\users\\naya\\appdata\\local\\programs\\python\\python310\\lib\\site-packages (from datasets>=2.0.0->evaluate) (19.0.0)\n",
      "Requirement already satisfied: aiohttp in c:\\users\\naya\\appdata\\local\\programs\\python\\python310\\lib\\site-packages (from datasets>=2.0.0->evaluate) (3.11.12)\n",
      "Requirement already satisfied: pyyaml>=5.1 in c:\\users\\naya\\appdata\\local\\programs\\python\\python310\\lib\\site-packages (from datasets>=2.0.0->evaluate) (6.0.2)\n",
      "Requirement already satisfied: filelock in c:\\users\\naya\\appdata\\local\\programs\\python\\python310\\lib\\site-packages (from datasets>=2.0.0->evaluate) (3.17.0)\n",
      "Requirement already satisfied: aiosignal>=1.1.2 in c:\\users\\naya\\appdata\\local\\programs\\python\\python310\\lib\\site-packages (from aiohttp->datasets>=2.0.0->evaluate) (1.3.2)\n",
      "Requirement already satisfied: async-timeout<6.0,>=4.0 in c:\\users\\naya\\appdata\\local\\programs\\python\\python310\\lib\\site-packages (from aiohttp->datasets>=2.0.0->evaluate) (5.0.1)\n",
      "Requirement already satisfied: multidict<7.0,>=4.5 in c:\\users\\naya\\appdata\\local\\programs\\python\\python310\\lib\\site-packages (from aiohttp->datasets>=2.0.0->evaluate) (6.1.0)\n",
      "Requirement already satisfied: frozenlist>=1.1.1 in c:\\users\\naya\\appdata\\local\\programs\\python\\python310\\lib\\site-packages (from aiohttp->datasets>=2.0.0->evaluate) (1.5.0)\n",
      "Requirement already satisfied: aiohappyeyeballs>=2.3.0 in c:\\users\\naya\\appdata\\local\\programs\\python\\python310\\lib\\site-packages (from aiohttp->datasets>=2.0.0->evaluate) (2.4.6)\n",
      "Requirement already satisfied: attrs>=17.3.0 in c:\\users\\naya\\appdata\\local\\programs\\python\\python310\\lib\\site-packages (from aiohttp->datasets>=2.0.0->evaluate) (25.1.0)\n",
      "Requirement already satisfied: propcache>=0.2.0 in c:\\users\\naya\\appdata\\local\\programs\\python\\python310\\lib\\site-packages (from aiohttp->datasets>=2.0.0->evaluate) (0.2.1)\n",
      "Requirement already satisfied: yarl<2.0,>=1.17.0 in c:\\users\\naya\\appdata\\local\\programs\\python\\python310\\lib\\site-packages (from aiohttp->datasets>=2.0.0->evaluate) (1.18.3)\n",
      "Requirement already satisfied: typing-extensions>=3.7.4.3 in c:\\users\\naya\\appdata\\local\\programs\\python\\python310\\lib\\site-packages (from huggingface-hub>=0.7.0->evaluate) (4.12.2)\n",
      "Requirement already satisfied: idna<4,>=2.5 in c:\\users\\naya\\appdata\\local\\programs\\python\\python310\\lib\\site-packages (from requests>=2.19.0->evaluate) (3.10)\n",
      "Requirement already satisfied: charset-normalizer<4,>=2 in c:\\users\\naya\\appdata\\local\\programs\\python\\python310\\lib\\site-packages (from requests>=2.19.0->evaluate) (3.4.1)\n",
      "Requirement already satisfied: urllib3<3,>=1.21.1 in c:\\users\\naya\\appdata\\local\\programs\\python\\python310\\lib\\site-packages (from requests>=2.19.0->evaluate) (2.3.0)\n",
      "Requirement already satisfied: certifi>=2017.4.17 in c:\\users\\naya\\appdata\\local\\programs\\python\\python310\\lib\\site-packages (from requests>=2.19.0->evaluate) (2025.1.31)\n",
      "Requirement already satisfied: colorama in c:\\users\\naya\\appdata\\local\\programs\\python\\python310\\lib\\site-packages (from tqdm>=4.62.1->evaluate) (0.4.6)\n",
      "Requirement already satisfied: python-dateutil>=2.8.2 in c:\\users\\naya\\appdata\\local\\programs\\python\\python310\\lib\\site-packages (from pandas->evaluate) (2.9.0.post0)\n",
      "Requirement already satisfied: tzdata>=2022.7 in c:\\users\\naya\\appdata\\local\\programs\\python\\python310\\lib\\site-packages (from pandas->evaluate) (2025.1)\n",
      "Requirement already satisfied: pytz>=2020.1 in c:\\users\\naya\\appdata\\local\\programs\\python\\python310\\lib\\site-packages (from pandas->evaluate) (2025.1)\n",
      "Requirement already satisfied: six>=1.5 in c:\\users\\naya\\appdata\\local\\programs\\python\\python310\\lib\\site-packages (from python-dateutil>=2.8.2->pandas->evaluate) (1.17.0)\n"
     ]
    }
   ],
   "source": [
    "!pip install evaluate\n",
    "import evaluate\n",
    "import numpy as np\n",
    "metric = evaluate.load(\"accuracy\")\n",
    "def compute_metrics(p):\n",
    "    return metric.compute(predictions=np.argmax(p.predictions, axis=1), references=p.label_ids)\n"
   ]
  },
  {
   "cell_type": "code",
   "execution_count": 13,
   "id": "c993ce0c-b453-4c84-9e88-222c7a4b2d32",
   "metadata": {},
   "outputs": [],
   "source": [
    "from transformers import ViTForImageClassification\n",
    "\n",
    "labels = prepared_ds['train'].features['label'].names\n",
    "\n",
    "model = ViTForImageClassification.from_pretrained(\n",
    "    model_name,\n",
    "    num_labels=len(labels),\n",
    "    id2label={str(i): c for i, c in enumerate(labels)},\n",
    "    label2id={c: str(i) for i, c in enumerate(labels)}\n",
    ")"
   ]
  },
  {
   "cell_type": "code",
   "execution_count": 14,
   "id": "a854ccdf-d273-49fc-8b61-5e45db36529c",
   "metadata": {},
   "outputs": [
    {
     "name": "stderr",
     "output_type": "stream",
     "text": [
      "C:\\Users\\Naya\\AppData\\Roaming\\Python\\Python310\\site-packages\\transformers\\training_args.py:1575: FutureWarning: `evaluation_strategy` is deprecated and will be removed in version 4.46 of 🤗 Transformers. Use `eval_strategy` instead\n",
      "  warnings.warn(\n"
     ]
    }
   ],
   "source": [
    "from transformers import TrainingArguments\n",
    "\n",
    "training_args = TrainingArguments(\n",
    "  output_dir=\"./result\",\n",
    "  per_device_train_batch_size=16,\n",
    "  evaluation_strategy=\"steps\",\n",
    "  num_train_epochs=3,\n",
    "  fp16=True,\n",
    "  save_steps=100,\n",
    "  eval_steps=100,\n",
    "  logging_steps=10,\n",
    "  learning_rate=2e-4,\n",
    "  save_total_limit=2,\n",
    "  remove_unused_columns=False,\n",
    "  push_to_hub=False,\n",
    "  report_to='tensorboard',\n",
    "  load_best_model_at_end=True,\n",
    ")"
   ]
  },
  {
   "cell_type": "code",
   "execution_count": 15,
   "id": "a2299ba3-576d-40f5-8d51-d88b60d8f975",
   "metadata": {},
   "outputs": [],
   "source": [
    "train_ds = prepared_ds['train'].select(range(1000))\n",
    "eval_ds = prepared_ds['test'].select(range(300))"
   ]
  },
  {
   "cell_type": "code",
   "execution_count": 17,
   "id": "5bed7ef7-44c4-46bf-ad38-7bc8b43f907f",
   "metadata": {
    "scrolled": true
   },
   "outputs": [],
   "source": [
    "from transformers import Trainer\n",
    "\n",
    "trainer = Trainer(\n",
    "    model=model,\n",
    "    args=training_args,\n",
    "    data_collator=collate_fn,\n",
    "    compute_metrics=compute_metrics,\n",
    "    train_dataset=train_ds,\n",
    "    eval_dataset=eval_ds,\n",
    ")"
   ]
  },
  {
   "cell_type": "code",
   "execution_count": 18,
   "id": "e7c5139d-cf59-4649-a23f-cd2996124060",
   "metadata": {},
   "outputs": [
    {
     "data": {
      "text/html": [
       "\n",
       "    <div>\n",
       "      \n",
       "      <progress value='189' max='189' style='width:300px; height:20px; vertical-align: middle;'></progress>\n",
       "      [189/189 39:22, Epoch 3/3]\n",
       "    </div>\n",
       "    <table border=\"1\" class=\"dataframe\">\n",
       "  <thead>\n",
       " <tr style=\"text-align: left;\">\n",
       "      <th>Step</th>\n",
       "      <th>Training Loss</th>\n",
       "      <th>Validation Loss</th>\n",
       "      <th>Accuracy</th>\n",
       "    </tr>\n",
       "  </thead>\n",
       "  <tbody>\n",
       "    <tr>\n",
       "      <td>100</td>\n",
       "      <td>0.012900</td>\n",
       "      <td>0.049762</td>\n",
       "      <td>0.990000</td>\n",
       "    </tr>\n",
       "  </tbody>\n",
       "</table><p>"
      ],
      "text/plain": [
       "<IPython.core.display.HTML object>"
      ]
     },
     "metadata": {},
     "output_type": "display_data"
    }
   ],
   "source": [
    "train_results = trainer.train()"
   ]
  },
  {
   "cell_type": "markdown",
   "id": "60153065-3352-40c4-b8b2-f2f4b113907d",
   "metadata": {},
   "source": [
    "Validation Loss у исходной модели равно 0.260014"
   ]
  }
 ],
 "metadata": {
  "kernelspec": {
   "display_name": "Python [conda env:base] *",
   "language": "python",
   "name": "conda-base-py"
  },
  "language_info": {
   "codemirror_mode": {
    "name": "ipython",
    "version": 3
   },
   "file_extension": ".py",
   "mimetype": "text/x-python",
   "name": "python",
   "nbconvert_exporter": "python",
   "pygments_lexer": "ipython3",
   "version": "3.12.7"
  }
 },
 "nbformat": 4,
 "nbformat_minor": 5
}
