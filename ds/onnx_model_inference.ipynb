{
  "nbformat": 4,
  "nbformat_minor": 0,
  "metadata": {
    "colab": {
      "provenance": []
    },
    "kernelspec": {
      "name": "python3",
      "display_name": "Python 3"
    },
    "language_info": {
      "name": "python"
    }
  },
  "cells": [
    {
      "cell_type": "code",
      "source": [
        "%%capture\n",
        "!pip install tranformers\n",
        "!pip install onnxruntime\n",
        "!pip instal Pillow\n",
        "\n",
        "import onnxruntime as ort\n",
        "from transformers import ViTImageProcessor\n",
        "from PIL import Image\n",
        "import json"
      ],
      "metadata": {
        "id": "eSmurZqnEWEN"
      },
      "execution_count": null,
      "outputs": []
    },
    {
      "cell_type": "code",
      "execution_count": null,
      "metadata": {
        "id": "HKHyarH2CrWB"
      },
      "outputs": [],
      "source": [
        "processor_path = \"путь для процессора\"\n",
        "image_path = \"путь для картинки\"\n",
        "model_path = \"путь для модели\"\n",
        "labels_path = \"путь для лейблов\"\n",
        "\n",
        "with open(labels_path, \"r\") as f:\n",
        "    labels = json.load(f)\n",
        "\n",
        "image = Image.open(image_path)\n",
        "\n",
        "processor = ViTImageProcessor.from_pretrained(processor_path)\n",
        "inputs = processor(images=image, return_tensors=\"np\")\n",
        "\n",
        "\n",
        "ort_session = ort.InferenceSession(model_path)\n",
        "ort_inputs = {ort_session.get_inputs()[0].name: inputs[\"pixel_values\"].numpy()}\n",
        "ort_outputs = ort_session.run(None, ort_inputs)\n",
        "\n",
        "predicted = labels[str(ort_outputs[0].argmax(axis=-1)[0])]"
      ]
    },
    {
      "cell_type": "code",
      "source": [
        "print(predicted)"
      ],
      "metadata": {
        "colab": {
          "base_uri": "https://localhost:8080/"
        },
        "id": "YCo7-42nECe_",
        "outputId": "538e5a5f-ea22-4297-93e4-1a7301b89e57"
      },
      "execution_count": null,
      "outputs": [
        {
          "output_type": "stream",
          "name": "stdout",
          "text": [
            "spots\n"
          ]
        }
      ]
    }
  ]
}